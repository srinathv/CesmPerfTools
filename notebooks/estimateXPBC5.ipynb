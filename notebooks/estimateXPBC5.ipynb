{
 "metadata": {
  "name": "",
  "signature": "sha256:6b83fa520deb3ef53eeff2f2b7f941732df8307765ad4d2111b3847911c0d507"
 },
 "nbformat": 3,
 "nbformat_minor": 0,
 "worksheets": [
  {
   "cells": [
    {
     "cell_type": "code",
     "collapsed": false,
     "input": [
      "import math\n",
      "yellowSYPD=13.19\n",
      "xeonPhiFac=.29\n",
      "yellowTotTasks=960\n",
      "numNodes=960/16.\n",
      "yellowCaseHours=((24.)/yellowSYPD)\n",
      "stampedeCaseHours=yellowCaseHours/xeonPhiFac\n",
      "print math.ceil(stampedeCaseHours), \"is number of hours necessary to run a BC5 ne30_g16 for 1 simulated year on\" , math.ceil(numNodes) ,\" KNC cards on Stampede.\""
     ],
     "language": "python",
     "metadata": {},
     "outputs": []
    },
    {
     "cell_type": "markdown",
     "metadata": {},
     "source": [
      "On:https://www.tacc.utexas.edu/user-services/allocations#types-research\n",
      "\n",
      "When applying for an allocation on an HPC or Viz system you will be asked to estimate the number of system units (SU) you will require for the project. SUs are calculated according to this formula:\n",
      "\n",
      "Number of cores X wall-clock time of job\n",
      "\n",
      "where the wall-clock time is measured in hours."
     ]
    },
    {
     "cell_type": "code",
     "collapsed": false,
     "input": [
      "print \"We need \",math.ceil(stampedeCaseHours*60*16), \"SU for a 1 year run of this case.\""
     ],
     "language": "python",
     "metadata": {},
     "outputs": []
    },
    {
     "cell_type": "markdown",
     "metadata": {},
     "source": [
      "Also on the same webpage:\n",
      "    \n",
      "###Allocation Types\n",
      "There are three types of project allocations available: startup, research, and instructional.\n",
      "\n",
      "####Startup Allocations\n",
      "Startup project allocations are meant to provide the PI with adequate allocation to build a case for a research or instructional project. These projects will typically receive small allocations with short durations. PIs can apply for a startup project allocation at any time.\n",
      "\n",
      "####Research Allocations\n",
      "Research project allocations support the computational needs of the scientific community. Research project allocations begin on calendar quarters, are normally for one year, and must be renewed annually for multi-year projects. Requests for new research allocations and renewals must be submitted 30 days prior to the start of the allocation period. Requests submitted after the due date will be considered for the next allocation period. PIs can apply for startup project allocations until the next research project quarterly deadline. Multi-year research project allocations can be granted as part of proposal submission by negotiation with TACC during proposal preparation. Such multi-year allocations are also reviewed annually to ensure continued need and effective utilization of the resource."
     ]
    },
    {
     "cell_type": "code",
     "collapsed": false,
     "input": [],
     "language": "python",
     "metadata": {},
     "outputs": []
    }
   ],
   "metadata": {}
  }
 ]
}