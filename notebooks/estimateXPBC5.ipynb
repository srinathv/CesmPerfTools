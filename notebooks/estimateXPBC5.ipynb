{
 "metadata": {
  "name": "",
  "signature": "sha256:8c27437d35d02d2f6a3516562216756b74b7ea2e06b45b42fb842400e62c4535"
 },
 "nbformat": 3,
 "nbformat_minor": 0,
 "worksheets": [
  {
   "cells": [
    {
     "cell_type": "code",
     "collapsed": false,
     "input": [
      "import math\n",
      "yellowSYPD=13.19\n",
      "xeonPhiFac=.29\n",
      "yellowTotTasks=960\n",
      "numNodes=960/16.\n",
      "yellowCaseHours=((24.)/yellowSYPD)\n",
      "stampedeCaseHours=yellowCaseHours/xeonPhiFac\n",
      "print math.ceil(stampedeCaseHours), \"is number of hours necessary to run a BC5 ne30_g16 for 1 simulated year on\" , math.ceil(numNodes) ,\" KNC cards on Stampede.\""
     ],
     "language": "python",
     "metadata": {},
     "outputs": []
    },
    {
     "cell_type": "markdown",
     "metadata": {},
     "source": [
      "On:https://www.tacc.utexas.edu/user-services/allocations#types-research\n",
      "\n",
      "When applying for an allocation on an HPC or Viz system you will be asked to estimate the number of system units (SU) you will require for the project. SUs are calculated according to this formula:\n",
      "\n",
      "Number of cores X wall-clock time of job\n",
      "\n",
      "where the wall-clock time is measured in hours."
     ]
    },
    {
     "cell_type": "code",
     "collapsed": false,
     "input": [
      "print \"We need \",math.ceil(stampedeCaseHours*60*16), \"SU for a 1 year run of this case.\""
     ],
     "language": "python",
     "metadata": {},
     "outputs": []
    }
   ],
   "metadata": {}
  }
 ]
}