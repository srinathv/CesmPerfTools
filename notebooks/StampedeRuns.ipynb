{
 "metadata": {
  "name": ""
 },
 "nbformat": 3,
 "nbformat_minor": 0,
 "worksheets": [
  {
   "cells": [
    {
     "cell_type": "heading",
     "level": 1,
     "metadata": {},
     "source": [
      "CESM 1_3_beta07 FC5 ne16_ne16 performance runs on Stampede"
     ]
    },
    {
     "cell_type": "raw",
     "metadata": {},
     "source": [
      "Understanding c"
     ]
    },
    {
     "cell_type": "raw",
     "metadata": {},
     "source": [
      "Git repo @  git@bitbucket.org:srinath22/cesm-performance-analysis-tools.git\n",
      "**add what is the repo for people to use***"
     ]
    },
    {
     "cell_type": "code",
     "collapsed": false,
     "input": [
      "import os,sys\n",
      "sys.path.append('../modules')\n",
      "import cesmperftiming as cpt\n",
      "import cesmperfplotting as cpp\n",
      "import numpy as np\n"
     ],
     "language": "python",
     "metadata": {},
     "outputs": [],
     "prompt_number": 11
    },
    {
     "cell_type": "raw",
     "metadata": {},
     "source": [
      "Load up compiler 13 8 node 2 threads per rank runs. Results saved in git repo:\tssh://srinathv@stampede.tacc.utexas.edu//work/02463/srinathv/cesm1_3_beta07/scripts"
     ]
    },
    {
     "cell_type": "code",
     "collapsed": false,
     "input": [
      "pathToStampedePerfData='/Users/srinathv/Repos/stampede-c13b07-scripts/'"
     ],
     "language": "python",
     "metadata": {},
     "outputs": [],
     "prompt_number": 12
    },
    {
     "cell_type": "code",
     "collapsed": false,
     "input": [
      "file15='c13b7.host.15x2x8.13/timing/ccsm_timing_stats.140211-005635.gz'\n",
      "file16='c13b7.host.16x2x8.13/timing/ccsm_timing_stats.140218-203327.gz'"
     ],
     "language": "python",
     "metadata": {},
     "outputs": [],
     "prompt_number": 13
    },
    {
     "cell_type": "raw",
     "metadata": {},
     "source": [
      "Create timing data objects."
     ]
    },
    {
     "cell_type": "code",
     "collapsed": false,
     "input": [
      "fifteenRanks = cpt.cesmTimeParser()\n",
      "sixteenRanks = cpt.cesmTimeParser()\n",
      "fifteenRanks.parseFile(pathToStampedePerfData + file15)\n",
      "sixteenRanks.parseFile(pathToStampedePerfData + file16)\n"
     ],
     "language": "python",
     "metadata": {},
     "outputs": [],
     "prompt_number": 14
    },
    {
     "cell_type": "raw",
     "metadata": {},
     "source": [
      "What subroutines are available?"
     ]
    },
    {
     "cell_type": "code",
     "collapsed": false,
     "input": [
      "subNames = fifteenRanks.getRoutineNames()\n",
      "for i in range(len(subNames)):\n",
      "    print subNames[i]"
     ],
     "language": "python",
     "metadata": {},
     "outputs": [
      {
       "output_type": "stream",
       "stream": "stdout",
       "text": [
        "DRIVER_INIT\n",
        "driver_init_comps\n",
        "phys_grid_init\n",
        "driver_init_maps\n",
        "driver_init_atminit\n",
        "stepon_run1\n",
        "d_p_coupling\n",
        "UniquePoints\n",
        "dpcopy\n",
        "derived_phys\n",
        "phys_run1\n",
        "physpkg_st1\n",
        "chk_en_gmean\n",
        "gmean_fixed_repro\n",
        "shr_reprosum_int\n",
        "repro_sum_loopa\n",
        "repro_sum_allr_minmax\n",
        "repro_sum_loopb\n",
        "repro_sum_allr_i8\n",
        "advance_trcdata\n",
        "read_next_trcdata\n",
        "interpolate_trcdata\n",
        "bc_physics\n",
        "driver_init_readrestart\n",
        "driver_init_rof2lnd\n",
        "DRIVER_RUN_LOOP_BSTART\n",
        "DRIVER_RUN_LOOP\n",
        "DRIVER_CPL_RUN\n",
        "DRIVER_CLOCK_ADVANCE\n",
        "DRIVER_OCNPREP\n",
        "driver_ocnprep_atm2ocn\n",
        "DRIVER_LNDPREP\n",
        "driver_lndprep_atm2lnd\n",
        "driver_lndprep_mrgx2l\n",
        "DRIVER_CPL_COMM\n",
        "DRIVER_C2L\n",
        "driver_c2l_lndx2lndl\n",
        "driver_c2l_infoexch\n",
        "DRIVER_ICEPREP\n",
        "driver_iceprep_ocn2ice\n",
        "driver_iceprep_atm2ice\n",
        "driver_iceprep_mrgx2i\n",
        "DRIVER_C2I\n",
        "driver_c2i_icex2icei\n",
        "driver_ice_infoexch\n",
        "DRIVER_ROFPREP\n",
        "driver_rofprep_l2xavg\n",
        "driver_rofprep_lnd2rof\n",
        "driver_rofprep_mrgx2r\n",
        "DRIVER_C2R\n",
        "driver_c2r_rofx2rofr\n",
        "driver_c2r_infoexch\n",
        "DRIVER_ICE_RUN\n",
        "cice_run_total\n",
        "cice_run_import\n",
        "cice_imp_ocn\n",
        "cice_imp_atm\n",
        "cice_run_initmd\n",
        "cice_run_presc\n",
        "cice_pice_strd_adv_readLBUB\n",
        "cice_pice_readLBUB_setup\n",
        "cice_pice_readLBUB_fbound\n",
        "cice_pice_readLBUB_bcast\n",
        "cice_pice_readLBUB_LB_setup\n",
        "cice_pice_readLBUB_LB_readpio\n",
        "cice_pice_readLBUB_UB_setup\n",
        "cice_pice_readLBUB_UB_readpio\n",
        "cice_pice_readLBUB_filemgt\n",
        "cice_pice_strd_adv_map\n",
        "cice_pice_strd_adv_tint\n",
        "cice_run_initflux\n",
        "cice_run_prepradiation\n",
        "cice_run_therm1\n",
        "cice_run_dyn\n",
        "cice_run_radiation\n",
        "cice_step_radiationib\n",
        "cice_step_rib_swdedd1\n",
        "cice_step_rib_swdedd2\n",
        "cice_step_rib_swdedd7\n",
        "cice_run_couplingprep\n",
        "cice_run_diag\n",
        "cice_run_hist\n",
        "cice_run_accum\n",
        "cice_run_export\n",
        "DRIVER_LND_RUN\n",
        "lc_lnd_import\n",
        "clm_run\n",
        "shr_orb_decl\n",
        "begwbal\n",
        "pftdynwts\n",
        "drvinit\n",
        "hydro1\n",
        "surfrad\n",
        "bgp1\n",
        "bgflux\n",
        "uflux\n",
        "canflux\n",
        "bgplake\n",
        "bgc\n",
        "bgp2\n",
        "pft2col\n",
        "hydro2\n",
        "hylake\n",
        "ecosysdyn\n",
        "balchk\n",
        "clm_map2gcell\n",
        "wrtdiag\n",
        "accum\n",
        "hbuf\n",
        "clm_drv_io\n",
        "clm_drv_io_htapes\n",
        "lc_lnd_export\n",
        "lc_clm2_adv_timestep\n",
        "DRIVER_ROF_RUN\n",
        "lc_rof_import\n",
        "RTMrun\n",
        "RTMbudget\n",
        "RTMflood\n",
        "RTMsubcycling\n",
        "RTMhbuf\n",
        "RTMhtapes\n",
        "lc_rof_export\n",
        "DRIVER_ATMOCNP\n",
        "driver_atmocnp_fluxo\n",
        "driver_atmocnp_ocnalb\n",
        "DRIVER_L2C\n",
        "driver_l2c_lndl2lndx\n",
        "lnd2cpl_run\n",
        "DRIVER_LNDPOST\n",
        "driver_lndpost_accl2r\n",
        "DRIVER_R2C\n",
        "driver_r2c_rofr2rofx\n",
        "driver_r2c_infoexch\n",
        "DRIVER_ROFPOST\n",
        "driver_rofpost_rof2lnd\n",
        "DRIVER_I2C\n",
        "driver_i2c_icei2icex\n",
        "DRIVER_ICEPOST\n",
        "DRIVER_FRACSET\n",
        "driver_fracset_fracset\n",
        "DRIVER_ATMPREP\n",
        "driver_atmocnq_atm2ocn12\n",
        "driver_atmocnq_atm2ocnb\n",
        "driver_atmprep_ice2atm\n",
        "driver_atmprep_lnd2atm\n",
        "driver_atmprep_mrgx2a\n",
        "DRIVER_C2A\n",
        "driver_c2a_atmx2atmg\n",
        "driver_c2a_infoexch\n",
        "DRIVER_ATM_RUN\n",
        "CAM_import\n",
        "CAM_run2\n",
        "phys_run2\n",
        "lightning_no_prod\n",
        "ac_physics\n",
        "carma_accumulate_stats\n",
        "physpkg_st2\n",
        "stepon_run2\n",
        "p_d_coupling\n",
        "pd_copy\n",
        "putUniquePoints\n",
        "bndry_exchange\n",
        "edge_pack\n",
        "edge_unpack\n",
        "cam_run2_memusage\n",
        "CAM_run3\n",
        "stepon_run3\n",
        "dyn_run\n",
        "prim_advance_exp\n",
        "compute_and_apply_rhs\n",
        "advance_hypervis_dp\n",
        "prim_advec_tracers_remap_rk2\n",
        "vertical_remap\n",
        "remap1\n",
        "remap_Q_ppm\n",
        "cam_run3_memusage\n",
        "CAM_run4\n",
        "wshist\n",
        "cam_run4_wrapup\n",
        "cam_run4_flush\n",
        "CAM_adv_timestep\n",
        "CAM_run1\n",
        "CAM_export\n",
        "DRIVER_A2C\n",
        "driver_a2c_atma2atmx\n",
        "driver_a2c_infoexch\n",
        "DRIVER_ATMPOST\n",
        "DRIVER_HISTORY\n",
        "DRIVER_TSTAMP_WRITE\n",
        "DRIVER_TPROF_WRITE\n",
        "DRIVER_C2O_INITWAIT\n",
        "interpMonthlyVeg\n",
        "surfalb\n",
        "urbsurfalb\n",
        "DRIVER_OCN_RUN\n",
        "DOCN_RUN\n",
        "docn_run1\n",
        "docn_unpack\n",
        "docn\n",
        "docn_strdata_advance\n",
        "docn_strd_adv_readLBUB\n",
        "docn_readLBUB_setup\n",
        "docn_readLBUB_filemgt\n",
        "docn_strd_adv_tint\n",
        "docn_scatter\n",
        "docn_mode\n",
        "docn_run2\n",
        "DRIVER_O2C\n",
        "driver_o2ct_ocno2ocnx\n",
        "driver_o2ct_infoexch\n",
        "DRIVER_OCNPOSTT\n",
        "RTMrest\n",
        "clm_drv_io_wrest\n",
        "docn_restart\n",
        "cam_write_restart\n",
        "get_phys_decomp\n",
        "dump_field\n",
        "get_decomp\n",
        "DRIVER_RESTART\n",
        "DRIVER_RUN_LOOP_BSTOP\n",
        "DRIVER_FINAL\n",
        "DOCN_FINAL\n",
        "t_prf\n"
       ]
      }
     ],
     "prompt_number": 16
    },
    {
     "cell_type": "raw",
     "metadata": {},
     "source": [
      "And columns for data? "
     ]
    },
    {
     "cell_type": "code",
     "collapsed": false,
     "input": [
      "colNames = fifteenRanks.getColHeaders()\n",
      "for i in range(len(colNames)):\n",
      "    print colNames[i]"
     ],
     "language": "python",
     "metadata": {},
     "outputs": [
      {
       "output_type": "stream",
       "stream": "stdout",
       "text": [
        "count\n",
        "walltotal\n",
        "wallmax\n",
        "wallmin\n"
       ]
      }
     ],
     "prompt_number": 18
    },
    {
     "cell_type": "code",
     "collapsed": false,
     "input": [
      "print 'Number of MPI ranks total = ', fifteenRanks.getNumMpiProcs()\n",
      "print 'Number of OpenMP threads per rank = ',fifteenRanks.getNumOmpThreads()"
     ],
     "language": "python",
     "metadata": {},
     "outputs": [
      {
       "output_type": "stream",
       "stream": "stdout",
       "text": [
        "Number of MPI ranks total =  120\n",
        "Number of OpenMP threads per rank =  2\n"
       ]
      }
     ],
     "prompt_number": 19
    },
    {
     "cell_type": "raw",
     "metadata": {},
     "source": [
      "Since this is happeing over 8 nodes, that is 15 mpi ranks per node."
     ]
    },
    {
     "cell_type": "code",
     "collapsed": false,
     "input": [],
     "language": "python",
     "metadata": {},
     "outputs": []
    }
   ],
   "metadata": {}
  }
 ]
}