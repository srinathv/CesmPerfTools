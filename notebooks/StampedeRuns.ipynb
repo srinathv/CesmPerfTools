{
 "metadata": {
  "name": ""
 },
 "nbformat": 3,
 "nbformat_minor": 0,
 "worksheets": [
  {
   "cells": [
    {
     "cell_type": "heading",
     "level": 1,
     "metadata": {},
     "source": [
      "CESM 1_3_beta07 FC5 ne16_ne16 performance runs on Stampede"
     ]
    },
    {
     "cell_type": "raw",
     "metadata": {},
     "source": [
      "Understanding c"
     ]
    },
    {
     "cell_type": "raw",
     "metadata": {},
     "source": [
      "Git repo @  git@bitbucket.org:srinath22/cesm-performance-analysis-tools.git\n",
      "**add what is the repo for people to use***"
     ]
    },
    {
     "cell_type": "code",
     "collapsed": false,
     "input": [
      "import os,sys\n",
      "sys.path.append('../modules')\n",
      "import cesmperftiming as cpt\n",
      "import cesmperfplotting as cpp\n",
      "import numpy as np\n"
     ],
     "language": "python",
     "metadata": {},
     "outputs": [],
     "prompt_number": 35
    },
    {
     "cell_type": "raw",
     "metadata": {},
     "source": [
      "Load up compiler 13 8 node 2 threads per rank runs. Results saved in git repo:\tssh://srinathv@stampede.tacc.utexas.edu//work/02463/srinathv/cesm1_3_beta07/scripts"
     ]
    },
    {
     "cell_type": "code",
     "collapsed": false,
     "input": [
      "pathToStampedePerfData='/Users/srinathv/Repos/stampede-c13b07-scripts/'"
     ],
     "language": "python",
     "metadata": {},
     "outputs": [],
     "prompt_number": 36
    },
    {
     "cell_type": "code",
     "collapsed": false,
     "input": [
      "file15='c13b7.host.15x2x8.13/timing/ccsm_timing_stats.140211-005635.gz'\n",
      "file16='c13b7.host.16x2x8.13/timing/ccsm_timing_stats.140218-203327.gz'\n",
      "file16one='c13b7.host.16x1x8.13/timing/ccsm_timing_stats.140219-112428.gz'"
     ],
     "language": "python",
     "metadata": {},
     "outputs": [],
     "prompt_number": 37
    },
    {
     "cell_type": "raw",
     "metadata": {},
     "source": [
      "Create timing data objects."
     ]
    },
    {
     "cell_type": "code",
     "collapsed": false,
     "input": [
      "fifteenRanks = cpt.cesmTimeParser()\n",
      "sixteenRanks = cpt.cesmTimeParser()\n",
      "sixteenRanksOneThread=cpt.cesmTimeParser()\n",
      "fifteenRanks.parseFile(pathToStampedePerfData + file15)\n",
      "sixteenRanks.parseFile(pathToStampedePerfData + file16)\n",
      "sixteenRanksOneThread.parseFile(pathToStampedePerfData + file16one)"
     ],
     "language": "python",
     "metadata": {},
     "outputs": [],
     "prompt_number": 38
    },
    {
     "cell_type": "raw",
     "metadata": {},
     "source": [
      "What subroutines are available?"
     ]
    },
    {
     "cell_type": "code",
     "collapsed": false,
     "input": [
      "subNames = fifteenRanks.getRoutineNames()\n",
      "for i in range(len(subNames)):\n",
      "    print subNames[i]"
     ],
     "language": "python",
     "metadata": {},
     "outputs": [
      {
       "output_type": "stream",
       "stream": "stdout",
       "text": [
        "DRIVER_INIT\n",
        "driver_init_comps\n",
        "phys_grid_init\n",
        "driver_init_maps\n",
        "driver_init_atminit\n",
        "stepon_run1\n",
        "d_p_coupling\n",
        "UniquePoints\n",
        "dpcopy\n",
        "derived_phys\n",
        "phys_run1\n",
        "physpkg_st1\n",
        "chk_en_gmean\n",
        "gmean_fixed_repro\n",
        "shr_reprosum_int\n",
        "repro_sum_loopa\n",
        "repro_sum_allr_minmax\n",
        "repro_sum_loopb\n",
        "repro_sum_allr_i8\n",
        "advance_trcdata\n",
        "read_next_trcdata\n",
        "interpolate_trcdata\n",
        "bc_physics\n",
        "driver_init_readrestart\n",
        "driver_init_rof2lnd\n",
        "DRIVER_RUN_LOOP_BSTART\n",
        "DRIVER_RUN_LOOP\n",
        "DRIVER_CPL_RUN\n",
        "DRIVER_CLOCK_ADVANCE\n",
        "DRIVER_OCNPREP\n",
        "driver_ocnprep_atm2ocn\n",
        "DRIVER_LNDPREP\n",
        "driver_lndprep_atm2lnd\n",
        "driver_lndprep_mrgx2l\n",
        "DRIVER_CPL_COMM\n",
        "DRIVER_C2L\n",
        "driver_c2l_lndx2lndl\n",
        "driver_c2l_infoexch\n",
        "DRIVER_ICEPREP\n",
        "driver_iceprep_ocn2ice\n",
        "driver_iceprep_atm2ice\n",
        "driver_iceprep_mrgx2i\n",
        "DRIVER_C2I\n",
        "driver_c2i_icex2icei\n",
        "driver_ice_infoexch\n",
        "DRIVER_ROFPREP\n",
        "driver_rofprep_l2xavg\n",
        "driver_rofprep_lnd2rof\n",
        "driver_rofprep_mrgx2r\n",
        "DRIVER_C2R\n",
        "driver_c2r_rofx2rofr\n",
        "driver_c2r_infoexch\n",
        "DRIVER_ICE_RUN\n",
        "cice_run_total\n",
        "cice_run_import\n",
        "cice_imp_ocn\n",
        "cice_imp_atm\n",
        "cice_run_initmd\n",
        "cice_run_presc\n",
        "cice_pice_strd_adv_readLBUB\n",
        "cice_pice_readLBUB_setup\n",
        "cice_pice_readLBUB_fbound\n",
        "cice_pice_readLBUB_bcast\n",
        "cice_pice_readLBUB_LB_setup\n",
        "cice_pice_readLBUB_LB_readpio\n",
        "cice_pice_readLBUB_UB_setup\n",
        "cice_pice_readLBUB_UB_readpio\n",
        "cice_pice_readLBUB_filemgt\n",
        "cice_pice_strd_adv_map\n",
        "cice_pice_strd_adv_tint\n",
        "cice_run_initflux\n",
        "cice_run_prepradiation\n",
        "cice_run_therm1\n",
        "cice_run_dyn\n",
        "cice_run_radiation\n",
        "cice_step_radiationib\n",
        "cice_step_rib_swdedd1\n",
        "cice_step_rib_swdedd2\n",
        "cice_step_rib_swdedd7\n",
        "cice_run_couplingprep\n",
        "cice_run_diag\n",
        "cice_run_hist\n",
        "cice_run_accum\n",
        "cice_run_export\n",
        "DRIVER_LND_RUN\n",
        "lc_lnd_import\n",
        "clm_run\n",
        "shr_orb_decl\n",
        "begwbal\n",
        "pftdynwts\n",
        "drvinit\n",
        "hydro1\n",
        "surfrad\n",
        "bgp1\n",
        "bgflux\n",
        "uflux\n",
        "canflux\n",
        "bgplake\n",
        "bgc\n",
        "bgp2\n",
        "pft2col\n",
        "hydro2\n",
        "hylake\n",
        "ecosysdyn\n",
        "balchk\n",
        "clm_map2gcell\n",
        "wrtdiag\n",
        "accum\n",
        "hbuf\n",
        "clm_drv_io\n",
        "clm_drv_io_htapes\n",
        "lc_lnd_export\n",
        "lc_clm2_adv_timestep\n",
        "DRIVER_ROF_RUN\n",
        "lc_rof_import\n",
        "RTMrun\n",
        "RTMbudget\n",
        "RTMflood\n",
        "RTMsubcycling\n",
        "RTMhbuf\n",
        "RTMhtapes\n",
        "lc_rof_export\n",
        "DRIVER_ATMOCNP\n",
        "driver_atmocnp_fluxo\n",
        "driver_atmocnp_ocnalb\n",
        "DRIVER_L2C\n",
        "driver_l2c_lndl2lndx\n",
        "lnd2cpl_run\n",
        "DRIVER_LNDPOST\n",
        "driver_lndpost_accl2r\n",
        "DRIVER_R2C\n",
        "driver_r2c_rofr2rofx\n",
        "driver_r2c_infoexch\n",
        "DRIVER_ROFPOST\n",
        "driver_rofpost_rof2lnd\n",
        "DRIVER_I2C\n",
        "driver_i2c_icei2icex\n",
        "DRIVER_ICEPOST\n",
        "DRIVER_FRACSET\n",
        "driver_fracset_fracset\n",
        "DRIVER_ATMPREP\n",
        "driver_atmocnq_atm2ocn12\n",
        "driver_atmocnq_atm2ocnb\n",
        "driver_atmprep_ice2atm\n",
        "driver_atmprep_lnd2atm\n",
        "driver_atmprep_mrgx2a\n",
        "DRIVER_C2A\n",
        "driver_c2a_atmx2atmg\n",
        "driver_c2a_infoexch\n",
        "DRIVER_ATM_RUN\n",
        "CAM_import\n",
        "CAM_run2\n",
        "phys_run2\n",
        "lightning_no_prod\n",
        "ac_physics\n",
        "carma_accumulate_stats\n",
        "physpkg_st2\n",
        "stepon_run2\n",
        "p_d_coupling\n",
        "pd_copy\n",
        "putUniquePoints\n",
        "bndry_exchange\n",
        "edge_pack\n",
        "edge_unpack\n",
        "cam_run2_memusage\n",
        "CAM_run3\n",
        "stepon_run3\n",
        "dyn_run\n",
        "prim_advance_exp\n",
        "compute_and_apply_rhs\n",
        "advance_hypervis_dp\n",
        "prim_advec_tracers_remap_rk2\n",
        "vertical_remap\n",
        "remap1\n",
        "remap_Q_ppm\n",
        "cam_run3_memusage\n",
        "CAM_run4\n",
        "wshist\n",
        "cam_run4_wrapup\n",
        "cam_run4_flush\n",
        "CAM_adv_timestep\n",
        "CAM_run1\n",
        "CAM_export\n",
        "DRIVER_A2C\n",
        "driver_a2c_atma2atmx\n",
        "driver_a2c_infoexch\n",
        "DRIVER_ATMPOST\n",
        "DRIVER_HISTORY\n",
        "DRIVER_TSTAMP_WRITE\n",
        "DRIVER_TPROF_WRITE\n",
        "DRIVER_C2O_INITWAIT\n",
        "interpMonthlyVeg\n",
        "surfalb\n",
        "urbsurfalb\n",
        "DRIVER_OCN_RUN\n",
        "DOCN_RUN\n",
        "docn_run1\n",
        "docn_unpack\n",
        "docn\n",
        "docn_strdata_advance\n",
        "docn_strd_adv_readLBUB\n",
        "docn_readLBUB_setup\n",
        "docn_readLBUB_filemgt\n",
        "docn_strd_adv_tint\n",
        "docn_scatter\n",
        "docn_mode\n",
        "docn_run2\n",
        "DRIVER_O2C\n",
        "driver_o2ct_ocno2ocnx\n",
        "driver_o2ct_infoexch\n",
        "DRIVER_OCNPOSTT\n",
        "RTMrest\n",
        "clm_drv_io_wrest\n",
        "docn_restart\n",
        "cam_write_restart\n",
        "get_phys_decomp\n",
        "dump_field\n",
        "get_decomp\n",
        "DRIVER_RESTART\n",
        "DRIVER_RUN_LOOP_BSTOP\n",
        "DRIVER_FINAL\n",
        "DOCN_FINAL\n",
        "t_prf\n"
       ]
      }
     ],
     "prompt_number": 39
    },
    {
     "cell_type": "raw",
     "metadata": {},
     "source": [
      "And columns for data? "
     ]
    },
    {
     "cell_type": "code",
     "collapsed": false,
     "input": [
      "colNames = fifteenRanks.getColHeaders()\n",
      "for i in range(len(colNames)):\n",
      "    print colNames[i]"
     ],
     "language": "python",
     "metadata": {},
     "outputs": [
      {
       "output_type": "stream",
       "stream": "stdout",
       "text": [
        "count\n",
        "walltotal\n",
        "wallmax\n",
        "wallmin\n"
       ]
      }
     ],
     "prompt_number": 40
    },
    {
     "cell_type": "code",
     "collapsed": false,
     "input": [
      "print 'Number of MPI ranks total = ', fifteenRanks.getNumMpiProcs()\n",
      "print 'Number of OpenMP threads per rank = ',fifteenRanks.getNumOmpThreads()"
     ],
     "language": "python",
     "metadata": {},
     "outputs": [
      {
       "output_type": "stream",
       "stream": "stdout",
       "text": [
        "Number of MPI ranks total =  120\n",
        "Number of OpenMP threads per rank =  2\n"
       ]
      }
     ],
     "prompt_number": 41
    },
    {
     "cell_type": "raw",
     "metadata": {},
     "source": [
      "Since this is happeing over 8 nodes, that is 15 mpi ranks per node."
     ]
    },
    {
     "cell_type": "code",
     "collapsed": false,
     "input": [
      "print 'Time for INIT for 15 ranks case is ', fifteenRanks.getDataEntry(\"DRIVER_INIT\",\"wallmax\"), '[s]'"
     ],
     "language": "python",
     "metadata": {},
     "outputs": [
      {
       "output_type": "stream",
       "stream": "stdout",
       "text": [
        "Time for INIT for 15 ranks case is  37.891 [s]\n"
       ]
      }
     ],
     "prompt_number": 42
    },
    {
     "cell_type": "raw",
     "metadata": {},
     "source": [
      "Let us make sure that 2 threads per rank are faster than one thread per rank."
     ]
    },
    {
     "cell_type": "code",
     "collapsed": false,
     "input": [
      "print 'Compiler intel 13: Ratio 16 mpi ranks per node for 8 nodes [1 thread per rank/ 2 thread per rank] is ', sixteenRanksOneThread.getDataEntry(\"DRIVER_RUN_LOOP\",\"wallmax\")/sixteenRanks.getDataEntry(\"DRIVER_RUN_LOOP\",\"wallmax\")"
     ],
     "language": "python",
     "metadata": {},
     "outputs": [
      {
       "output_type": "stream",
       "stream": "stdout",
       "text": [
        "Compiler intel 13: Ratio 16 mpi ranks per node for 8 nodes [1 thread per rank/ 2 thread per rank] is  0.974473712537\n"
       ]
      }
     ],
     "prompt_number": 43
    },
    {
     "cell_type": "raw",
     "metadata": {},
     "source": [
      "Well look at that, hyper-threading using all 16 cores for a dual socket Sandybridge on Stampede may not be the best for CESM 1_3_beta07. Let's compare 15 ranks with 2 threads per rank vs. 16 ranks with 2 threads per rank."
     ]
    },
    {
     "cell_type": "code",
     "collapsed": false,
     "input": [
      "print 'Compiler intel 13: Ratio [15/16] mpi ranks per node for 8 nodes with 2 threads is ', fifteenRanks.getDataEntry(\"DRIVER_RUN_LOOP\",\"wallmax\")/sixteenRanks.getDataEntry(\"DRIVER_RUN_LOOP\",\"wallmax\")"
     ],
     "language": "python",
     "metadata": {},
     "outputs": [
      {
       "output_type": "stream",
       "stream": "stdout",
       "text": [
        "Compiler intel 13: Ratio [15/16] mpi ranks per node for 8 nodes with 2 threads is  1.1270624779\n"
       ]
      }
     ],
     "prompt_number": 46
    },
    {
     "cell_type": "raw",
     "metadata": {},
     "source": [
      "So 16 ranks is faster than 15 ranks using 2 threads per rank.  But, single threading seems to be better than hyper-threading."
     ]
    },
    {
     "cell_type": "raw",
     "metadata": {},
     "source": [
      "Which of the routines for the single thread vs. hyper threading is faster?"
     ]
    },
    {
     "cell_type": "code",
     "collapsed": false,
     "input": [
      "for i in range(len(subNames)):\n",
      "    if (sixteenRanksOneThread.getDataEntry(subNames[i],\"wallmax\") != 0.):\n",
      "      try:\n",
      "        ratio=sixteenRanks.getDataEntry(subNames[i],\"wallmax\")/sixteenRanksOneThread.getDataEntry(subNames[i],\"wallmax\")\n",
      "      except:\n",
      "        print subNames[i], ' has an issue while calculating ratios'    \n",
      "      if (ratio > 1.):\n",
      "        print 'Single thread subroutine ', subNames[i], ' is faster than hyper-threading by ', (ratio - 1.)*100,'%'"
     ],
     "language": "python",
     "metadata": {},
     "outputs": [
      {
       "output_type": "stream",
       "stream": "stdout",
       "text": [
        "Single thread subroutine  DRIVER_INIT  is faster than hyper-threading by  4.930433608 %\n",
        "Single thread subroutine  driver_init_comps  is faster than hyper-threading by  3.96020477156 %\n",
        "Single thread subroutine  driver_init_maps  is faster than hyper-threading by  24.0802675585 %\n",
        "Single thread subroutine  driver_init_atminit  is faster than hyper-threading by  23.9130434783 %\n",
        "Single thread subroutine  derived_phys  is faster than hyper-threading by  2.87769784173 %\n",
        "Single thread subroutine  phys_run1  is faster than hyper-threading by  1.02045782703 %\n",
        "Single thread subroutine  physpkg_st1  is faster than hyper-threading by  11.2692088788 %\n",
        "Single thread subroutine  chk_en_gmean  is faster than hyper-threading by  27.3529411765 %\n",
        "Single thread subroutine  gmean_fixed_repro  is faster than hyper-threading by  27.6218611521 %\n",
        "Single thread subroutine  shr_reprosum_int  is faster than hyper-threading by  35.6622998544 %\n",
        "Single thread subroutine  repro_sum_allr_minmax  is faster than hyper-threading by  26.2048192771 %\n",
        "Single thread subroutine  repro_sum_allr_i8  is faster than hyper-threading by  361.111111111 %\n",
        "Single thread subroutine  advance_trcdata  is faster than hyper-threading by  3.29012961117 %\n",
        "Single thread subroutine  interpolate_trcdata  is faster than hyper-threading by  36.1596009975 %\n",
        "Single thread subroutine  bc_physics  is faster than hyper-threading by  0.579169856539 %\n",
        "Single thread subroutine  driver_init_rof2lnd  is faster than hyper-threading by  7.27969348659 %\n",
        "Single thread subroutine  DRIVER_RUN_LOOP  is faster than hyper-threading by  2.61949472156 %\n",
        "Single thread subroutine  DRIVER_CPL_RUN  is faster than hyper-threading by  4.58291457286 %\n",
        "Single thread subroutine  DRIVER_OCNPREP  is faster than hyper-threading by  0.704041720991 %\n",
        "Single thread subroutine  driver_ocnprep_atm2ocn  is faster than hyper-threading by  0.677966101695 %\n",
        "Single thread subroutine  DRIVER_LNDPREP  is faster than hyper-threading by  27.2727272727 %\n",
        "Single thread subroutine  driver_lndprep_atm2lnd  is faster than hyper-threading by  11.7647058824 %\n",
        "Single thread subroutine  driver_lndprep_mrgx2l  is faster than hyper-threading by  80.0 %\n",
        "Single thread subroutine  DRIVER_C2L  is faster than hyper-threading by  54.3624161074 %\n",
        "Single thread subroutine  driver_c2l_lndx2lndl  is faster than hyper-threading by  70.6422018349 %\n",
        "Single thread subroutine  DRIVER_ICEPREP  is faster than hyper-threading by  36.3636363636 %\n",
        "Single thread subroutine  driver_iceprep_ocn2ice  is faster than hyper-threading by  10.0 %\n",
        "Single thread subroutine  driver_iceprep_mrgx2i  is faster than hyper-threading by  55.5555555556 %\n",
        "Single thread subroutine  DRIVER_C2I  is faster than hyper-threading by  27.4193548387 %\n",
        "Single thread subroutine  driver_c2i_icex2icei  is faster than hyper-threading by  27.5862068966 %\n",
        "Single thread subroutine  driver_ice_infoexch  is faster than hyper-threading by  28.8461538462 %\n",
        "Single thread subroutine  DRIVER_ROFPREP  is faster than hyper-threading by  3.53697749196 %\n",
        "Single thread subroutine  driver_rofprep_lnd2rof  is faster than hyper-threading by  3.58306188925 %\n",
        "Single thread subroutine  DRIVER_C2R  is faster than hyper-threading by  1.94805194805 %\n",
        "Single thread subroutine  driver_c2r_rofx2rofr  is faster than hyper-threading by  2.07612456747 %\n",
        "Single thread subroutine  driver_c2r_infoexch  is faster than hyper-threading by  3.18021201413 %\n",
        "Single thread subroutine  DRIVER_ICE_RUN  is faster than hyper-threading by  26.251691475 %\n",
        "Single thread subroutine  cice_run_total  is faster than hyper-threading by  27.4678111588 %\n",
        "Single thread subroutine  cice_run_import  is faster than hyper-threading by  87.5 %\n",
        "Single thread subroutine  cice_imp_ocn  is faster than hyper-threading by  66.6666666667 %\n",
        "Single thread subroutine  cice_imp_atm  is faster than hyper-threading by  50.0 %\n",
        "Single thread subroutine  cice_run_initmd  is faster than hyper-threading by  30.3303303303 %\n",
        "Single thread subroutine  cice_run_prepradiation  is faster than hyper-threading by  100.0 %\n",
        "Single thread subroutine  cice_run_therm1  is faster than hyper-threading by  46.511627907 %\n",
        "Single thread subroutine  cice_run_hist  is faster than hyper-threading by  130.769230769 %\n",
        "Single thread subroutine  cice_run_accum  is faster than hyper-threading by  12.5581395349 %\n",
        "Single thread subroutine  cice_run_export  is faster than hyper-threading by  25.0 %\n",
        "Single thread subroutine  DRIVER_LND_RUN  is faster than hyper-threading by  3.4180543383 %\n",
        "Single thread subroutine  clm_run  is faster than hyper-threading by  3.40841730883 %\n",
        "Single thread subroutine  pftdynwts  is faster than hyper-threading by  200.0 %\n",
        "Single thread subroutine  bgplake  is faster than hyper-threading by  44.4444444444 %\n",
        "Single thread subroutine  wrtdiag  is faster than hyper-threading by  9.09090909091 %\n",
        "Single thread subroutine  accum  is faster than hyper-threading by  6.66666666667 %\n",
        "Single thread subroutine  clm_drv_io  is faster than hyper-threading by  6.98901098901 %\n",
        "Single thread subroutine  clm_drv_io_htapes  is faster than hyper-threading by  50.0 %\n",
        "Single thread subroutine  DRIVER_LNDPOST  is faster than hyper-threading by  100.0 %\n",
        "Single thread subroutine  driver_lndpost_accl2r  is faster than hyper-threading by  100.0 %\n",
        "Single thread subroutine  DRIVER_ROFPOST  is faster than hyper-threading by  8.88888888889 %\n",
        "Single thread subroutine  driver_rofpost_rof2lnd  is faster than hyper-threading by  8.88888888889 %\n",
        "Single thread subroutine  DRIVER_ATMPREP  is faster than hyper-threading by  15.2125279642 %\n",
        "Single thread subroutine  driver_atmocnq_atm2ocn12  is faster than hyper-threading by  16.1290322581 %\n",
        "Single thread subroutine  driver_atmocnq_atm2ocnb  is faster than hyper-threading by  17.3333333333 %\n",
        "Single thread subroutine  driver_atmprep_ice2atm  is faster than hyper-threading by  10.1265822785 %\n",
        "Single thread subroutine  driver_atmprep_lnd2atm  is faster than hyper-threading by  16.875 %\n",
        "Single thread subroutine  driver_atmprep_mrgx2a  is faster than hyper-threading by  53.8461538462 %\n",
        "Single thread subroutine  driver_c2a_infoexch  is faster than hyper-threading by  9.72222222222 %\n",
        "Single thread subroutine  DRIVER_ATM_RUN  is faster than hyper-threading by  1.69022658705 %\n",
        "Single thread subroutine  CAM_run2  is faster than hyper-threading by  2.98448070036 %\n",
        "Single thread subroutine  phys_run2  is faster than hyper-threading by  0.279134682484 %\n",
        "Single thread subroutine  ac_physics  is faster than hyper-threading by  0.265214963707 %\n",
        "Single thread subroutine  stepon_run2  is faster than hyper-threading by  10.1712189156 %\n",
        "Single thread subroutine  p_d_coupling  is faster than hyper-threading by  4.85436893204 %\n",
        "Single thread subroutine  pd_copy  is faster than hyper-threading by  15.7894736842 %\n",
        "Single thread subroutine  bndry_exchange  is faster than hyper-threading by  61.1017475384 %\n",
        "Single thread subroutine  edge_pack  is faster than hyper-threading by  170.212071778 %\n",
        "Single thread subroutine  CAM_run3  is faster than hyper-threading by  1.55943682053 %\n",
        "Single thread subroutine  stepon_run3  is faster than hyper-threading by  1.55948314273 %\n",
        "Single thread subroutine  dyn_run  is faster than hyper-threading by  1.55948314273 %\n",
        "Single thread subroutine  prim_advance_exp  is faster than hyper-threading by  2.37632317995 %\n",
        "Single thread subroutine  advance_hypervis_dp  is faster than hyper-threading by  21.3466183575 %\n",
        "Single thread subroutine  prim_advec_tracers_remap_rk2  is faster than hyper-threading by  4.81613179097 %\n",
        "Single thread subroutine  CAM_run4  is faster than hyper-threading by  9.26553672316 %\n",
        "Single thread subroutine  CAM_run1  is faster than hyper-threading by  0.323180883361 %\n",
        "Single thread subroutine  DRIVER_TSTAMP_WRITE  is faster than hyper-threading by  6800.0 %\n",
        "Single thread subroutine  DRIVER_C2O_INITWAIT  is faster than hyper-threading by  4.36132236536 %\n",
        "Single thread subroutine  DRIVER_OCN_RUN  is faster than hyper-threading by  317.073170732 %\n",
        "Single thread subroutine  DOCN_RUN  is faster than hyper-threading by  390.909090909 %\n",
        "Single thread subroutine  docn_run1  is faster than hyper-threading by  50.0 %\n",
        "Single thread subroutine  docn  is faster than hyper-threading by  188.888888889 %\n",
        "Single thread subroutine  docn_scatter  is faster than hyper-threading by  14.8936170213 %\n",
        "Single thread subroutine  docn_run2  is faster than hyper-threading by  1744.44444444 %\n",
        "Single thread subroutine  driver_o2ct_ocno2ocnx  is faster than hyper-threading by  100.0 %\n",
        "Single thread subroutine  clm_drv_io_wrest  is faster than hyper-threading by  6.99208443272 %\n",
        "Single thread subroutine  docn_restart  is faster than hyper-threading by  1880.0 %\n",
        "Single thread subroutine  cam_write_restart  is faster than hyper-threading by  9.29653924451 %\n",
        "Single thread subroutine  dump_field  is faster than hyper-threading by  10.7491856678 %\n",
        "Single thread subroutine  DRIVER_RESTART  is faster than hyper-threading by  49.5016611296 %\n",
        "Single thread subroutine  DRIVER_RUN_LOOP_BSTOP  is faster than hyper-threading by  1907.69230769 %\n",
        "Single thread subroutine  DRIVER_FINAL  is faster than hyper-threading by  50.0 %\n"
       ]
      }
     ],
     "prompt_number": 57
    },
    {
     "cell_type": "raw",
     "metadata": {},
     "source": [
      "Let's plot a few of these comparisons."
     ]
    },
    {
     "cell_type": "code",
     "collapsed": false,
     "input": [
      "ratioList=[]\n",
      "outerTimedGroups=['DRIVER_RUN_LOOP','DRIVER_ATM_RUN','CAM_run1','CAM_run2','CAM_run3']\n",
      "for i in outerTimedGroups:\n",
      "    ratioList.append(sixteenRanks.getDataEntry(i,\"wallmax\")/sixteenRanksOneThread.getDataEntry(i,\"wallmax\"))"
     ],
     "language": "python",
     "metadata": {},
     "outputs": [
      {
       "output_type": "stream",
       "stream": "stdout",
       "text": [
        "[1.0261949472156033, 1.0169022658704936, 1.0032318088336107, 1.0298448070035815, 1.0155943682053112]\n"
       ]
      }
     ],
     "prompt_number": 60
    },
    {
     "cell_type": "code",
     "collapsed": false,
     "input": [
      "ratioArray=np.array(ratioList)\n",
      "pos = np.arange(int(np.size(ratioList)))    # the bar centers on the x axis\n",
      "width = 0.35\n",
      "\n",
      "plt.rc(('xtick','ytick','axes'), labelsize=16.0)\n",
      "\n",
      "plt.figure(1)\n",
      "ratioBars = plt.bar(pos, ratioArray, width, color='b')\n",
      "\n",
      "plt.ylabel('Normalized time')\n",
      "plt.xlabel('Timed categroies')\n",
      "plt.xticks(pos+width, outerTimedGroups, fontsize=6)\n",
      "#plt.legend((ratioBars),('Sandybridge'))\n",
      "plt.title('SNB on Stampede FC5, ne16_ne16 \\n' +\n",
      "          '(intel impi: 14.0.1.106, intel 13.1.1.163)' +\n",
      "          '\\n CESM 1_3_beta07 \\n 8 nodes, 16 mpi ranks per node, 2 vs. 1 thread per rank ',fontsize=12.)\n",
      "cpp.autolabelRel(ratioBars)\n",
      "plt.show()\n",
      "\n"
     ],
     "language": "python",
     "metadata": {},
     "outputs": [
      {
       "metadata": {},
       "output_type": "display_data",
       "png": "[encoded data removed]",
       "text": [
        "<matplotlib.figure.Figure at 0x105a18e50>"
       ]
      }
     ],
     "prompt_number": 64
    },
    {
     "cell_type": "code",
     "collapsed": false,
     "input": [],
     "language": "python",
     "metadata": {},
     "outputs": []
    }
   ],
   "metadata": {}
  }
 ]
}