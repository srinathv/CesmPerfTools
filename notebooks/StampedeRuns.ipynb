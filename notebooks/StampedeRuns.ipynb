{
 "metadata": {
  "name": ""
 },
 "nbformat": 3,
 "nbformat_minor": 0,
 "worksheets": [
  {
   "cells": [
    {
     "cell_type": "heading",
     "level": 1,
     "metadata": {},
     "source": [
      "CESM 1_3_beta07 FC5 ne16_ne16 performance runs on Stampede"
     ]
    },
    {
     "cell_type": "raw",
     "metadata": {},
     "source": [
      "Understanding c"
     ]
    },
    {
     "cell_type": "raw",
     "metadata": {},
     "source": [
      "Git repo @  git@bitbucket.org:srinath22/cesm-performance-analysis-tools.git\n",
      "**add what is the repo for people to use***"
     ]
    },
    {
     "cell_type": "code",
     "collapsed": false,
     "input": [
      "import os,sys\n",
      "sys.path.append('../modules')\n",
      "import cesmperftiming as cpt\n",
      "import cesmperfplotting as cpp\n",
      "import numpy as np\n"
     ],
     "language": "python",
     "metadata": {},
     "outputs": [],
     "prompt_number": 35
    },
    {
     "cell_type": "raw",
     "metadata": {},
     "source": [
      "Load up compiler 13 8 node 2 threads per rank runs. Results saved in git repo:\tssh://srinathv@stampede.tacc.utexas.edu//work/02463/srinathv/cesm1_3_beta07/scripts"
     ]
    },
    {
     "cell_type": "code",
     "collapsed": false,
     "input": [
      "pathToStampedePerfData='/Users/srinathv/Repos/stampede-c13b07-scripts/'"
     ],
     "language": "python",
     "metadata": {},
     "outputs": [],
     "prompt_number": 36
    },
    {
     "cell_type": "code",
     "collapsed": false,
     "input": [
      "file15='c13b7.host.15x2x8.13/timing/ccsm_timing_stats.140211-005635.gz'\n",
      "file16='c13b7.host.16x2x8.13/timing/ccsm_timing_stats.140218-203327.gz'\n",
      "file16one='c13b7.host.16x1x8.13/timing/ccsm_timing_stats.140219-112428.gz'"
     ],
     "language": "python",
     "metadata": {},
     "outputs": [],
     "prompt_number": 37
    },
    {
     "cell_type": "raw",
     "metadata": {},
     "source": [
      "Create timing data objects."
     ]
    },
    {
     "cell_type": "code",
     "collapsed": false,
     "input": [
      "fifteenRanks = cpt.cesmTimeParser()\n",
      "sixteenRanks = cpt.cesmTimeParser()\n",
      "sixteenRanksOneThread=cpt.cesmTimeParser()\n",
      "fifteenRanks.parseFile(pathToStampedePerfData + file15)\n",
      "sixteenRanks.parseFile(pathToStampedePerfData + file16)\n",
      "sixteenRanksOneThread.parseFile(pathToStampedePerfData + file16one)"
     ],
     "language": "python",
     "metadata": {},
     "outputs": [],
     "prompt_number": 38
    },
    {
     "cell_type": "raw",
     "metadata": {},
     "source": [
      "What subroutines are available?"
     ]
    },
    {
     "cell_type": "code",
     "collapsed": false,
     "input": [
      "subNames = fifteenRanks.getRoutineNames()\n",
      "for i in range(len(subNames)):\n",
      "    print subNames[i]"
     ],
     "language": "python",
     "metadata": {},
     "outputs": [
      {
       "output_type": "stream",
       "stream": "stdout",
       "text": [
        "DRIVER_INIT\n",
        "driver_init_comps\n",
        "phys_grid_init\n",
        "driver_init_maps\n",
        "driver_init_atminit\n",
        "stepon_run1\n",
        "d_p_coupling\n",
        "UniquePoints\n",
        "dpcopy\n",
        "derived_phys\n",
        "phys_run1\n",
        "physpkg_st1\n",
        "chk_en_gmean\n",
        "gmean_fixed_repro\n",
        "shr_reprosum_int\n",
        "repro_sum_loopa\n",
        "repro_sum_allr_minmax\n",
        "repro_sum_loopb\n",
        "repro_sum_allr_i8\n",
        "advance_trcdata\n",
        "read_next_trcdata\n",
        "interpolate_trcdata\n",
        "bc_physics\n",
        "driver_init_readrestart\n",
        "driver_init_rof2lnd\n",
        "DRIVER_RUN_LOOP_BSTART\n",
        "DRIVER_RUN_LOOP\n",
        "DRIVER_CPL_RUN\n",
        "DRIVER_CLOCK_ADVANCE\n",
        "DRIVER_OCNPREP\n",
        "driver_ocnprep_atm2ocn\n",
        "DRIVER_LNDPREP\n",
        "driver_lndprep_atm2lnd\n",
        "driver_lndprep_mrgx2l\n",
        "DRIVER_CPL_COMM\n",
        "DRIVER_C2L\n",
        "driver_c2l_lndx2lndl\n",
        "driver_c2l_infoexch\n",
        "DRIVER_ICEPREP\n",
        "driver_iceprep_ocn2ice\n",
        "driver_iceprep_atm2ice\n",
        "driver_iceprep_mrgx2i\n",
        "DRIVER_C2I\n",
        "driver_c2i_icex2icei\n",
        "driver_ice_infoexch\n",
        "DRIVER_ROFPREP\n",
        "driver_rofprep_l2xavg\n",
        "driver_rofprep_lnd2rof\n",
        "driver_rofprep_mrgx2r\n",
        "DRIVER_C2R\n",
        "driver_c2r_rofx2rofr\n",
        "driver_c2r_infoexch\n",
        "DRIVER_ICE_RUN\n",
        "cice_run_total\n",
        "cice_run_import\n",
        "cice_imp_ocn\n",
        "cice_imp_atm\n",
        "cice_run_initmd\n",
        "cice_run_presc\n",
        "cice_pice_strd_adv_readLBUB\n",
        "cice_pice_readLBUB_setup\n",
        "cice_pice_readLBUB_fbound\n",
        "cice_pice_readLBUB_bcast\n",
        "cice_pice_readLBUB_LB_setup\n",
        "cice_pice_readLBUB_LB_readpio\n",
        "cice_pice_readLBUB_UB_setup\n",
        "cice_pice_readLBUB_UB_readpio\n",
        "cice_pice_readLBUB_filemgt\n",
        "cice_pice_strd_adv_map\n",
        "cice_pice_strd_adv_tint\n",
        "cice_run_initflux\n",
        "cice_run_prepradiation\n",
        "cice_run_therm1\n",
        "cice_run_dyn\n",
        "cice_run_radiation\n",
        "cice_step_radiationib\n",
        "cice_step_rib_swdedd1\n",
        "cice_step_rib_swdedd2\n",
        "cice_step_rib_swdedd7\n",
        "cice_run_couplingprep\n",
        "cice_run_diag\n",
        "cice_run_hist\n",
        "cice_run_accum\n",
        "cice_run_export\n",
        "DRIVER_LND_RUN\n",
        "lc_lnd_import\n",
        "clm_run\n",
        "shr_orb_decl\n",
        "begwbal\n",
        "pftdynwts\n",
        "drvinit\n",
        "hydro1\n",
        "surfrad\n",
        "bgp1\n",
        "bgflux\n",
        "uflux\n",
        "canflux\n",
        "bgplake\n",
        "bgc\n",
        "bgp2\n",
        "pft2col\n",
        "hydro2\n",
        "hylake\n",
        "ecosysdyn\n",
        "balchk\n",
        "clm_map2gcell\n",
        "wrtdiag\n",
        "accum\n",
        "hbuf\n",
        "clm_drv_io\n",
        "clm_drv_io_htapes\n",
        "lc_lnd_export\n",
        "lc_clm2_adv_timestep\n",
        "DRIVER_ROF_RUN\n",
        "lc_rof_import\n",
        "RTMrun\n",
        "RTMbudget\n",
        "RTMflood\n",
        "RTMsubcycling\n",
        "RTMhbuf\n",
        "RTMhtapes\n",
        "lc_rof_export\n",
        "DRIVER_ATMOCNP\n",
        "driver_atmocnp_fluxo\n",
        "driver_atmocnp_ocnalb\n",
        "DRIVER_L2C\n",
        "driver_l2c_lndl2lndx\n",
        "lnd2cpl_run\n",
        "DRIVER_LNDPOST\n",
        "driver_lndpost_accl2r\n",
        "DRIVER_R2C\n",
        "driver_r2c_rofr2rofx\n",
        "driver_r2c_infoexch\n",
        "DRIVER_ROFPOST\n",
        "driver_rofpost_rof2lnd\n",
        "DRIVER_I2C\n",
        "driver_i2c_icei2icex\n",
        "DRIVER_ICEPOST\n",
        "DRIVER_FRACSET\n",
        "driver_fracset_fracset\n",
        "DRIVER_ATMPREP\n",
        "driver_atmocnq_atm2ocn12\n",
        "driver_atmocnq_atm2ocnb\n",
        "driver_atmprep_ice2atm\n",
        "driver_atmprep_lnd2atm\n",
        "driver_atmprep_mrgx2a\n",
        "DRIVER_C2A\n",
        "driver_c2a_atmx2atmg\n",
        "driver_c2a_infoexch\n",
        "DRIVER_ATM_RUN\n",
        "CAM_import\n",
        "CAM_run2\n",
        "phys_run2\n",
        "lightning_no_prod\n",
        "ac_physics\n",
        "carma_accumulate_stats\n",
        "physpkg_st2\n",
        "stepon_run2\n",
        "p_d_coupling\n",
        "pd_copy\n",
        "putUniquePoints\n",
        "bndry_exchange\n",
        "edge_pack\n",
        "edge_unpack\n",
        "cam_run2_memusage\n",
        "CAM_run3\n",
        "stepon_run3\n",
        "dyn_run\n",
        "prim_advance_exp\n",
        "compute_and_apply_rhs\n",
        "advance_hypervis_dp\n",
        "prim_advec_tracers_remap_rk2\n",
        "vertical_remap\n",
        "remap1\n",
        "remap_Q_ppm\n",
        "cam_run3_memusage\n",
        "CAM_run4\n",
        "wshist\n",
        "cam_run4_wrapup\n",
        "cam_run4_flush\n",
        "CAM_adv_timestep\n",
        "CAM_run1\n",
        "CAM_export\n",
        "DRIVER_A2C\n",
        "driver_a2c_atma2atmx\n",
        "driver_a2c_infoexch\n",
        "DRIVER_ATMPOST\n",
        "DRIVER_HISTORY\n",
        "DRIVER_TSTAMP_WRITE\n",
        "DRIVER_TPROF_WRITE\n",
        "DRIVER_C2O_INITWAIT\n",
        "interpMonthlyVeg\n",
        "surfalb\n",
        "urbsurfalb\n",
        "DRIVER_OCN_RUN\n",
        "DOCN_RUN\n",
        "docn_run1\n",
        "docn_unpack\n",
        "docn\n",
        "docn_strdata_advance\n",
        "docn_strd_adv_readLBUB\n",
        "docn_readLBUB_setup\n",
        "docn_readLBUB_filemgt\n",
        "docn_strd_adv_tint\n",
        "docn_scatter\n",
        "docn_mode\n",
        "docn_run2\n",
        "DRIVER_O2C\n",
        "driver_o2ct_ocno2ocnx\n",
        "driver_o2ct_infoexch\n",
        "DRIVER_OCNPOSTT\n",
        "RTMrest\n",
        "clm_drv_io_wrest\n",
        "docn_restart\n",
        "cam_write_restart\n",
        "get_phys_decomp\n",
        "dump_field\n",
        "get_decomp\n",
        "DRIVER_RESTART\n",
        "DRIVER_RUN_LOOP_BSTOP\n",
        "DRIVER_FINAL\n",
        "DOCN_FINAL\n",
        "t_prf\n"
       ]
      }
     ],
     "prompt_number": 39
    },
    {
     "cell_type": "raw",
     "metadata": {},
     "source": [
      "And columns for data? "
     ]
    },
    {
     "cell_type": "code",
     "collapsed": false,
     "input": [
      "colNames = fifteenRanks.getColHeaders()\n",
      "for i in range(len(colNames)):\n",
      "    print colNames[i]"
     ],
     "language": "python",
     "metadata": {},
     "outputs": [
      {
       "output_type": "stream",
       "stream": "stdout",
       "text": [
        "count\n",
        "walltotal\n",
        "wallmax\n",
        "wallmin\n"
       ]
      }
     ],
     "prompt_number": 40
    },
    {
     "cell_type": "code",
     "collapsed": false,
     "input": [
      "print 'Number of MPI ranks total = ', fifteenRanks.getNumMpiProcs()\n",
      "print 'Number of OpenMP threads per rank = ',fifteenRanks.getNumOmpThreads()"
     ],
     "language": "python",
     "metadata": {},
     "outputs": [
      {
       "output_type": "stream",
       "stream": "stdout",
       "text": [
        "Number of MPI ranks total =  120\n",
        "Number of OpenMP threads per rank =  2\n"
       ]
      }
     ],
     "prompt_number": 41
    },
    {
     "cell_type": "raw",
     "metadata": {},
     "source": [
      "Since this is happeing over 8 nodes, that is 15 mpi ranks per node."
     ]
    },
    {
     "cell_type": "code",
     "collapsed": false,
     "input": [
      "print 'Time for INIT for 15 ranks case is ', fifteenRanks.getDataEntry(\"DRIVER_INIT\",\"wallmax\"), '[s]'"
     ],
     "language": "python",
     "metadata": {},
     "outputs": [
      {
       "output_type": "stream",
       "stream": "stdout",
       "text": [
        "Time for INIT for 15 ranks case is  37.891 [s]\n"
       ]
      }
     ],
     "prompt_number": 42
    },
    {
     "cell_type": "raw",
     "metadata": {},
     "source": [
      "Let us make sure that 2 threads per rank are faster than one thread per rank."
     ]
    },
    {
     "cell_type": "code",
     "collapsed": false,
     "input": [
      "print 'Compiler intel 13: Ratio 16 mpi ranks per node for 8 nodes [1 thread per rank/ 2 thread per rank] is ', sixteenRanksOneThread.getDataEntry(\"DRIVER_RUN_LOOP\",\"wallmax\")/sixteenRanks.getDataEntry(\"DRIVER_RUN_LOOP\",\"wallmax\")"
     ],
     "language": "python",
     "metadata": {},
     "outputs": [
      {
       "output_type": "stream",
       "stream": "stdout",
       "text": [
        "Compiler intel 13: Ratio 16 mpi ranks per node for 8 nodes [1 thread per rank/ 2 thread per rank] is  0.974473712537\n"
       ]
      }
     ],
     "prompt_number": 43
    },
    {
     "cell_type": "raw",
     "metadata": {},
     "source": [
      "Well look at that, hyper-threading using all 16 cores for a dual socket Sandybridge on Stampede may not be the best for CESM 1_3_beta07. Let's compare 15 ranks with 2 threads per rank vs. 16 ranks with 2 threads per rank."
     ]
    },
    {
     "cell_type": "code",
     "collapsed": false,
     "input": [
      "print 'Compiler intel 13: Ratio [15/16] mpi ranks per node for 8 nodes with 2 threads is ', fifteenRanks.getDataEntry(\"DRIVER_RUN_LOOP\",\"wallmax\")/sixteenRanks.getDataEntry(\"DRIVER_RUN_LOOP\",\"wallmax\")"
     ],
     "language": "python",
     "metadata": {},
     "outputs": [
      {
       "output_type": "stream",
       "stream": "stdout",
       "text": [
        "Compiler intel 13: Ratio [15/16] mpi ranks per node for 8 nodes with 2 threads is  1.1270624779\n"
       ]
      }
     ],
     "prompt_number": 46
    },
    {
     "cell_type": "raw",
     "metadata": {},
     "source": [
      "So 16 ranks is faster than 15 ranks using 2 threads per rank.  But, single threading seems to be better than hyper-threading."
     ]
    },
    {
     "cell_type": "raw",
     "metadata": {},
     "source": [
      "Which of the routines for the single thread vs. hyper threading is faster?"
     ]
    },
    {
     "cell_type": "code",
     "collapsed": false,
     "input": [
      "for i in range(len(subNames)):\n",
      "    if (sixteenRanks.getDataEntry(subNames[i],\"wallmax\") != 0.):\n",
      "      try:\n",
      "        ratio=sixteenRanksOneThread.getDataEntry(subNames[i],\"wallmax\")/sixteenRanks.getDataEntry(subNames[i],\"wallmax\")\n",
      "      except:\n",
      "        print subNames[i], ' has an issue while calculating ratios'    \n",
      "      if (ratio > 1.):\n",
      "        print 'Single thread subroutine ', subNames[i], ' is faster than hyper-threading by ', (ratio - 1.)*100,'%'"
     ],
     "language": "python",
     "metadata": {},
     "outputs": [
      {
       "output_type": "stream",
       "stream": "stdout",
       "text": [
        "Single thread subroutine  phys_grid_init  is faster than hyper-threading by  28.2608695652 %\n",
        "Single thread subroutine  stepon_run1  is faster than hyper-threading by  4.52830188679 %\n",
        "Single thread subroutine  d_p_coupling  is faster than hyper-threading by  4.53686200378 %\n",
        "Single thread subroutine  UniquePoints  is faster than hyper-threading by  33.0188679245 %\n",
        "Single thread subroutine  repro_sum_loopb  is faster than hyper-threading by  50.0 %\n",
        "Single thread subroutine  read_next_trcdata  is faster than hyper-threading by  25.0549450549 %\n",
        "Single thread subroutine  DRIVER_CLOCK_ADVANCE  is faster than hyper-threading by  4.16666666667 %\n",
        "Single thread subroutine  DRIVER_CPL_COMM  is faster than hyper-threading by  2.70327993898 %\n",
        "Single thread subroutine  driver_c2l_infoexch  is faster than hyper-threading by  1.81818181818 %\n",
        "Single thread subroutine  driver_rofprep_mrgx2r  is faster than hyper-threading by  33.3333333333 %\n",
        "Single thread subroutine  cice_pice_strd_adv_map  is faster than hyper-threading by  25.0 %\n",
        "Single thread subroutine  cice_run_radiation  is faster than hyper-threading by  19.6428571429 %\n",
        "Single thread subroutine  cice_step_radiationib  is faster than hyper-threading by  50.0 %\n",
        "Single thread subroutine  cice_step_rib_swdedd7  is faster than hyper-threading by  44.1860465116 %\n",
        "Single thread subroutine  cice_run_couplingprep  is faster than hyper-threading by  17.8571428571 %\n",
        "Single thread subroutine  cice_run_diag  is faster than hyper-threading by  9.80392156863 %\n",
        "Single thread subroutine  surfrad  is faster than hyper-threading by  88.8888888889 %\n",
        "Single thread subroutine  bgp1  is faster than hyper-threading by  35.0 %\n",
        "Single thread subroutine  bgflux  is faster than hyper-threading by  68.4210526316 %\n",
        "Single thread subroutine  uflux  is faster than hyper-threading by  73.6842105263 %\n",
        "Single thread subroutine  canflux  is faster than hyper-threading by  98.2532751092 %\n",
        "Single thread subroutine  bgc  is faster than hyper-threading by  106.666666667 %\n",
        "Single thread subroutine  bgp2  is faster than hyper-threading by  86.1111111111 %\n",
        "Single thread subroutine  pft2col  is faster than hyper-threading by  50.0 %\n",
        "Single thread subroutine  hydro2  is faster than hyper-threading by  66.6666666667 %\n",
        "Single thread subroutine  ecosysdyn  is faster than hyper-threading by  100.0 %\n",
        "Single thread subroutine  balchk  is faster than hyper-threading by  55.5555555556 %\n",
        "Single thread subroutine  clm_map2gcell  is faster than hyper-threading by  3.57142857143 %\n",
        "Single thread subroutine  hbuf  is faster than hyper-threading by  0.854700854701 %\n",
        "Single thread subroutine  DRIVER_ROF_RUN  is faster than hyper-threading by  13.8648180243 %\n",
        "Single thread subroutine  RTMrun  is faster than hyper-threading by  13.9084507042 %\n",
        "Single thread subroutine  RTMbudget  is faster than hyper-threading by  13.1147540984 %\n",
        "Single thread subroutine  DRIVER_L2C  is faster than hyper-threading by  15.8854166667 %\n",
        "Single thread subroutine  driver_l2c_lndl2lndx  is faster than hyper-threading by  15.9268929504 %\n",
        "Single thread subroutine  DRIVER_R2C  is faster than hyper-threading by  15.6626506024 %\n",
        "Single thread subroutine  driver_r2c_rofr2rofx  is faster than hyper-threading by  15.6626506024 %\n",
        "Single thread subroutine  DRIVER_I2C  is faster than hyper-threading by  27.0114942529 %\n",
        "Single thread subroutine  driver_i2c_icei2icex  is faster than hyper-threading by  26.4367816092 %\n",
        "Single thread subroutine  DRIVER_FRACSET  is faster than hyper-threading by  100.917431193 %\n",
        "Single thread subroutine  driver_fracset_fracset  is faster than hyper-threading by  100.917431193 %\n",
        "Single thread subroutine  DRIVER_C2A  is faster than hyper-threading by  25.2808988764 %\n",
        "Single thread subroutine  driver_c2a_atmx2atmg  is faster than hyper-threading by  72.65625 %\n",
        "Single thread subroutine  putUniquePoints  is faster than hyper-threading by  5.42635658915 %\n",
        "Single thread subroutine  edge_unpack  is faster than hyper-threading by  86.0146252285 %\n",
        "Single thread subroutine  compute_and_apply_rhs  is faster than hyper-threading by  6.27849877236 %\n",
        "Single thread subroutine  vertical_remap  is faster than hyper-threading by  101.27388535 %\n",
        "Single thread subroutine  remap1  is faster than hyper-threading by  101.289134438 %\n",
        "Single thread subroutine  remap_Q_ppm  is faster than hyper-threading by  101.290322581 %\n",
        "Single thread subroutine  wshist  is faster than hyper-threading by  50.0 %\n",
        "Single thread subroutine  DRIVER_A2C  is faster than hyper-threading by  3.6421092952 %\n",
        "Single thread subroutine  driver_a2c_atma2atmx  is faster than hyper-threading by  4.84529071744 %\n",
        "Single thread subroutine  driver_a2c_infoexch  is faster than hyper-threading by  5.29886224026 %\n",
        "Single thread subroutine  surfalb  is faster than hyper-threading by  93.3333333333 %\n",
        "Single thread subroutine  urbsurfalb  is faster than hyper-threading by  100.0 %\n",
        "Single thread subroutine  DRIVER_O2C  is faster than hyper-threading by  21.5384615385 %\n",
        "Single thread subroutine  driver_o2ct_infoexch  is faster than hyper-threading by  22.0815752461 %\n",
        "Single thread subroutine  RTMrest  is faster than hyper-threading by  21.8503937008 %\n",
        "Single thread subroutine  get_phys_decomp  is faster than hyper-threading by  3.33333333333 %\n"
       ]
      }
     ],
     "prompt_number": 55
    },
    {
     "cell_type": "raw",
     "metadata": {},
     "source": [
      "Let's plot a few of these comparisons."
     ]
    },
    {
     "cell_type": "code",
     "collapsed": false,
     "input": [],
     "language": "python",
     "metadata": {},
     "outputs": [
      {
       "metadata": {},
       "output_type": "pyout",
       "prompt_number": 54,
       "text": [
        "0.001"
       ]
      }
     ],
     "prompt_number": 54
    },
    {
     "cell_type": "code",
     "collapsed": false,
     "input": [],
     "language": "python",
     "metadata": {},
     "outputs": []
    }
   ],
   "metadata": {}
  }
 ]
}