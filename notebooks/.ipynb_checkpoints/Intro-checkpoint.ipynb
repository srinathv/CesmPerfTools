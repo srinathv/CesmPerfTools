{
 "metadata": {
  "name": ""
 },
 "nbformat": 3,
 "nbformat_minor": 0,
 "worksheets": [
  {
   "cells": [
    {
     "cell_type": "heading",
     "level": 2,
     "metadata": {},
     "source": [
      "Dependencies:"
     ]
    },
    {
     "cell_type": "raw",
     "metadata": {},
     "source": [
      "Install git-annex using https://git-annex.branchable.com/install/ as the mechanism to selectively store run produced data files containing times and metrics."
     ]
    }
   ],
   "metadata": {}
  }
 ]
}