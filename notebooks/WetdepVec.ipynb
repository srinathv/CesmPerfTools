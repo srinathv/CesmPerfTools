{
 "metadata": {
  "name": ""
 },
 "nbformat": 3,
 "nbformat_minor": 0,
 "worksheets": [
  {
   "cells": [
    {
     "cell_type": "markdown",
     "metadata": {},
     "source": [
      "This shows the impact of the vectorization changes in the https://svn-ccsm-models.cgd.ucar.edu/cam1/branches/wetdepVec as placed into https://svn-ccsm-models.cgd.ucar.edu/cesm1/tags/cesm1_3_beta07. These results are from Yellowstone (3/24/2014-3/26/2014).  They were run using the default configuration for Yellowstone using :./create_newcase -mach yellowstone -compset FC5 -res ne16_ne16 -mpi mpich2 -case <>.\n",
      " "
     ]
    },
    {
     "cell_type": "code",
     "collapsed": false,
     "input": [
      "import os,sys,gzip\n",
      "sys.path.append('../modules')\n",
      "import cesmperftiming as cpt\n",
      "import cesmperfplotting as cpp\n",
      "import numpy as np"
     ],
     "language": "python",
     "metadata": {},
     "outputs": [],
     "prompt_number": 2
    },
    {
     "cell_type": "markdown",
     "metadata": {},
     "source": [
      "The repo we are using is @: ssh://srinathv@yellowstone.ucar.edu///glade/p/work/srinathv/cesm1_3_beta07/scripts"
     ]
    },
    {
     "cell_type": "code",
     "collapsed": false,
     "input": [
      "pathToYellowPerfData='/Users/srinathv/Repos/yellowstone-c13b07-scripts/'"
     ],
     "language": "python",
     "metadata": {},
     "outputs": [],
     "prompt_number": 3
    },
    {
     "cell_type": "code",
     "collapsed": false,
     "input": [
      "baselineFile='timeWet.baseline.host/timing/ccsm_timing_stats.140326-094100.gz'\n",
      "wetdepvecFile='timeWet.wetdepvec.host/timing/ccsm_timing_stats.140326-115523.gz'"
     ],
     "language": "python",
     "metadata": {},
     "outputs": [],
     "prompt_number": 4
    },
    {
     "cell_type": "markdown",
     "metadata": {},
     "source": [
      "Create the timing objects."
     ]
    },
    {
     "cell_type": "code",
     "collapsed": false,
     "input": [
      "baseline=cpt.cesmTimeParser()\n",
      "wetdepvec=cpt.cesmTimeParser()"
     ],
     "language": "python",
     "metadata": {},
     "outputs": [],
     "prompt_number": 5
    },
    {
     "cell_type": "code",
     "collapsed": false,
     "input": [
      "baseline.parseFile(pathToYellowPerfData + baselineFile)\n",
      "wetdepvec.parseFile(pathToYellowPerfData + wetdepvecFile)"
     ],
     "language": "python",
     "metadata": {},
     "outputs": [],
     "prompt_number": 7
    },
    {
     "cell_type": "code",
     "collapsed": false,
     "input": [
      "print 'Number of MPI ranks total = ', baseline.getNumMpiProcs()\n",
      "print 'Number of Threads =', baseline.getNumOmpThreads()"
     ],
     "language": "python",
     "metadata": {},
     "outputs": [
      {
       "output_type": "stream",
       "stream": "stdout",
       "text": [
        "Number of MPI ranks total =  630\n",
        "Number of Threads = 2\n"
       ]
      }
     ],
     "prompt_number": 9
    },
    {
     "cell_type": "code",
     "collapsed": false,
     "input": [],
     "language": "python",
     "metadata": {},
     "outputs": []
    }
   ],
   "metadata": {}
  }
 ]
}