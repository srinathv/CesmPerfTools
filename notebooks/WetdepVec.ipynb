{
 "metadata": {
  "name": ""
 },
 "nbformat": 3,
 "nbformat_minor": 0,
 "worksheets": [
  {
   "cells": [
    {
     "cell_type": "markdown",
     "metadata": {},
     "source": [
      "# Did vectorizing and if block collapsing make a difference in wetdepa_v2? \n"
     ]
    },
    {
     "cell_type": "markdown",
     "metadata": {},
     "source": [
      "## 3/25/2014\n",
      "---"
     ]
    },
    {
     "cell_type": "markdown",
     "metadata": {},
     "source": [
      "This shows the impact of the vectorization changes in the https://svn-ccsm-models.cgd.ucar.edu/cam1/branches/wetdepVec as placed into https://svn-ccsm-models.cgd.ucar.edu/cesm1/tags/cesm1_3_beta07. These results are from Yellowstone (3/24/2014-3/26/2014).  They were run using the default configuration for Yellowstone using :./create_newcase -mach yellowstone -compset FC5 -res ne16_ne16 -mpi mpich2 -case <>.\n",
      " "
     ]
    },
    {
     "cell_type": "code",
     "collapsed": false,
     "input": [
      "import os,sys,gzip\n",
      "sys.path.append('../modules')\n",
      "import cesmperftiming as cpt\n",
      "import cesmperfplotting as cpp\n",
      "import numpy as np"
     ],
     "language": "python",
     "metadata": {},
     "outputs": [],
     "prompt_number": 2
    },
    {
     "cell_type": "markdown",
     "metadata": {},
     "source": [
      "The repo we are using is @: ssh://srinathv@yellowstone.ucar.edu///glade/p/work/srinathv/cesm1_3_beta07/scripts"
     ]
    },
    {
     "cell_type": "code",
     "collapsed": false,
     "input": [
      "pathToYellowPerfData='/Users/srinathv/Repos/yellowstone-c13b07-scripts/'"
     ],
     "language": "python",
     "metadata": {},
     "outputs": [],
     "prompt_number": 3
    },
    {
     "cell_type": "code",
     "collapsed": false,
     "input": [
      "baselineFile='timeWet.baseline.host/timing/ccsm_timing_stats.140326-094100.gz'\n",
      "wetdepvecFile='timeWet.wetdepvec.host/timing/ccsm_timing_stats.140326-115523.gz'"
     ],
     "language": "python",
     "metadata": {},
     "outputs": [],
     "prompt_number": 4
    },
    {
     "cell_type": "markdown",
     "metadata": {},
     "source": [
      "Create the timing objects."
     ]
    },
    {
     "cell_type": "code",
     "collapsed": false,
     "input": [
      "baseline=cpt.cesmTimeParser()\n",
      "wetdepvec=cpt.cesmTimeParser()"
     ],
     "language": "python",
     "metadata": {},
     "outputs": [],
     "prompt_number": 5
    },
    {
     "cell_type": "code",
     "collapsed": false,
     "input": [
      "baseline.parseFile(pathToYellowPerfData + baselineFile)\n",
      "wetdepvec.parseFile(pathToYellowPerfData + wetdepvecFile)"
     ],
     "language": "python",
     "metadata": {},
     "outputs": [],
     "prompt_number": 7
    },
    {
     "cell_type": "code",
     "collapsed": false,
     "input": [
      "print 'Number of MPI ranks total = ', baseline.getNumMpiProcs()\n",
      "print 'Number of Threads =', baseline.getNumOmpThreads()"
     ],
     "language": "python",
     "metadata": {},
     "outputs": [
      {
       "output_type": "stream",
       "stream": "stdout",
       "text": [
        "Number of MPI ranks total =  630\n",
        "Number of Threads = 2\n"
       ]
      }
     ],
     "prompt_number": 9
    },
    {
     "cell_type": "markdown",
     "metadata": {},
     "source": [
      "## Overall Speedup"
     ]
    },
    {
     "cell_type": "code",
     "collapsed": false,
     "input": [
      "bMainTime=baseline.getDataEntry('DRIVER_RUN_LOOP','wallmax')\n",
      "vMainTime=wetdepvec.getDataEntry('DRIVER_RUN_LOOP','wallmax')"
     ],
     "language": "python",
     "metadata": {},
     "outputs": [],
     "prompt_number": 17
    },
    {
     "cell_type": "code",
     "collapsed": false,
     "input": [
      "print 'Baseline DRIVER_RUN_LOOP = ', bMainTime, ' [sec].'\n",
      "print 'Wetdepvec DRIVER_RUN_LOOP = ', vMainTime, ' [sec].'\n",
      "print 'Speedup by = ',100*abs(vMainTime-bMainTime)/bMainTime, '%.'"
     ],
     "language": "python",
     "metadata": {},
     "outputs": [
      {
       "output_type": "stream",
       "stream": "stdout",
       "text": [
        "Baseline DRIVER_RUN_LOOP =  61.747  [sec].\n",
        "Wetdepvec DRIVER_RUN_LOOP =  60.751  [sec].\n",
        "Speedup by =  1.6130338316 %.\n"
       ]
      }
     ],
     "prompt_number": 31
    },
    {
     "cell_type": "markdown",
     "metadata": {},
     "source": [
      "The change has allowed for a **1.6%** overall speedup.   "
     ]
    },
    {
     "cell_type": "markdown",
     "metadata": {},
     "source": [
      "##WETDEPA_V2 Speetup"
     ]
    },
    {
     "cell_type": "code",
     "collapsed": false,
     "input": [
      "bWetdepTime=baseline.getDataEntry('WETDEPA_V2','wallmax')\n",
      "vWetdepTime=wetdepvec.getDataEntry('WETDEPA_V2','wallmax')"
     ],
     "language": "python",
     "metadata": {},
     "outputs": [],
     "prompt_number": 33
    },
    {
     "cell_type": "code",
     "collapsed": false,
     "input": [
      "print 'Baseline  = ', bWetdepTime, ' [sec].'\n",
      "print 'Wetdepvec  = ', vWetdepTime, ' [sec].'\n",
      "print 'wetdepa_v2 relative Speedup by = ',100*abs(vWetdepTime-bWetdepTime)/bWetdepTime, '%.'"
     ],
     "language": "python",
     "metadata": {},
     "outputs": [
      {
       "output_type": "stream",
       "stream": "stdout",
       "text": [
        "Baseline  =  0.66  [sec].\n",
        "Wetdepvec  =  0.195  [sec].\n",
        "wetdepa_v2 relative Speedup by =  70.4545454545 %.\n"
       ]
      }
     ],
     "prompt_number": 34
    },
    {
     "cell_type": "code",
     "collapsed": false,
     "input": [],
     "language": "python",
     "metadata": {},
     "outputs": []
    }
   ],
   "metadata": {}
  }
 ]
}