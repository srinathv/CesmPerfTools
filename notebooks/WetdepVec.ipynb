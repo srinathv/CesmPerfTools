{
 "metadata": {
  "name": ""
 },
 "nbformat": 3,
 "nbformat_minor": 0,
 "worksheets": [
  {
   "cells": [
    {
     "cell_type": "markdown",
     "metadata": {},
     "source": [
      "# Did vectorizing and if block collapsing make a difference in wetdepa_v2? \n"
     ]
    },
    {
     "cell_type": "markdown",
     "metadata": {},
     "source": [
      "## 3/25/2014\n",
      "---"
     ]
    },
    {
     "cell_type": "markdown",
     "metadata": {},
     "source": [
      "This shows the impact of the vectorization changes in the https://svn-ccsm-models.cgd.ucar.edu/cam1/branches/wetdepVec as placed into https://svn-ccsm-models.cgd.ucar.edu/cesm1/tags/cesm1_3_beta07. These results are from Yellowstone (3/24/2014-3/26/2014).  They were run using the default configuration for Yellowstone using :./create_newcase -mach yellowstone -compset FC5 -res ne16_ne16 -mpi mpich2 -case <>.\n",
      " "
     ]
    },
    {
     "cell_type": "code",
     "collapsed": false,
     "input": [
      "import os,sys,gzip\n",
      "sys.path.append('../modules')\n",
      "import cesmperftiming as cpt\n",
      "import cesmperfplotting as cpp\n",
      "import numpy as np"
     ],
     "language": "python",
     "metadata": {},
     "outputs": [],
     "prompt_number": 4
    },
    {
     "cell_type": "markdown",
     "metadata": {},
     "source": [
      "The repo we are using is @: ssh://srinathv@yellowstone.ucar.edu///glade/p/work/srinathv/cesm1_3_beta07/scripts"
     ]
    },
    {
     "cell_type": "code",
     "collapsed": false,
     "input": [
      "import socket\n",
      "if socket.gethostname().find('.')>=0:\n",
      "    name=socket.gethostname()\n",
      "else:\n",
      "    name=socket.gethostbyaddr(socket.gethostname())[0]"
     ],
     "language": "python",
     "metadata": {},
     "outputs": [],
     "prompt_number": 5
    },
    {
     "cell_type": "code",
     "collapsed": false,
     "input": [
      "if name == 'Srinaths-MacBook-Pro.local':\n",
      "  pathToYellowPerfData='/Users/srinathv/Work/Repos/yellowstone-cesm1_3_beta07-scripts/'\n",
      "else:\n",
      "  pathToYellowPerfData='/Users/srinathv/Repos/yellowstone-c13b07-scripts/'"
     ],
     "language": "python",
     "metadata": {},
     "outputs": [],
     "prompt_number": 11
    },
    {
     "cell_type": "code",
     "collapsed": false,
     "input": [
      "baselineFile='timeWet.baseline.host/timing/ccsm_timing_stats.140326-094100.gz'\n",
      "baselineFile2='timeWet.baseline.host/timing/ccsm_timing_stats.140326-175141.gz'\n",
      "wetdepvecFile='timeWet.wetdepvec.host/timing/ccsm_timing_stats.140326-115523.gz'\n",
      "wetdepvecFile2='timeWet.wetdepvec.host/timing/ccsm_timing_stats.140326-175428.gz'"
     ],
     "language": "python",
     "metadata": {},
     "outputs": [],
     "prompt_number": 12
    },
    {
     "cell_type": "markdown",
     "metadata": {},
     "source": [
      "Create the timing objects."
     ]
    },
    {
     "cell_type": "code",
     "collapsed": false,
     "input": [
      "baseline=cpt.cesmTimeParser()\n",
      "wetdepvec=cpt.cesmTimeParser()\n",
      "baseline2=cpt.cesmTimeParser()\n",
      "wetdepvec2=cpt.cesmTimeParser()"
     ],
     "language": "python",
     "metadata": {},
     "outputs": [],
     "prompt_number": 13
    },
    {
     "cell_type": "code",
     "collapsed": false,
     "input": [
      "baseline.parseFile(pathToYellowPerfData + baselineFile)\n",
      "wetdepvec.parseFile(pathToYellowPerfData + wetdepvecFile)\n",
      "baseline2.parseFile(pathToYellowPerfData + baselineFile2)\n",
      "wetdepvec2.parseFile(pathToYellowPerfData + wetdepvecFile2)"
     ],
     "language": "python",
     "metadata": {},
     "outputs": [],
     "prompt_number": 15
    },
    {
     "cell_type": "code",
     "collapsed": false,
     "input": [
      "print 'Number of MPI ranks total = ', baseline.getNumMpiProcs()\n",
      "print 'Number of Threads =', baseline.getNumOmpThreads()"
     ],
     "language": "python",
     "metadata": {},
     "outputs": [
      {
       "output_type": "stream",
       "stream": "stdout",
       "text": [
        "Number of MPI ranks total =  630\n",
        "Number of Threads = 2\n"
       ]
      }
     ],
     "prompt_number": 16
    },
    {
     "cell_type": "markdown",
     "metadata": {},
     "source": [
      "## Overall Speedup"
     ]
    },
    {
     "cell_type": "code",
     "collapsed": false,
     "input": [
      "bMainTime=baseline.getDataEntry('DRIVER_RUN_LOOP','wallmax')\n",
      "vMainTime=wetdepvec.getDataEntry('DRIVER_RUN_LOOP','wallmax')\n",
      "bMainTime2=baseline2.getDataEntry('DRIVER_RUN_LOOP','wallmax')\n",
      "vMainTime2=wetdepvec2.getDataEntry('DRIVER_RUN_LOOP','wallmax')"
     ],
     "language": "python",
     "metadata": {},
     "outputs": [],
     "prompt_number": 17
    },
    {
     "cell_type": "code",
     "collapsed": false,
     "input": [
      "print 'Baseline DRIVER_RUN_LOOP = ', bMainTime, ' [sec].'\n",
      "print 'Wetdepvec DRIVER_RUN_LOOP = ', vMainTime, ' [sec].'\n",
      "print 'Speedup by = ',100*abs(vMainTime-bMainTime)/bMainTime, '%.'"
     ],
     "language": "python",
     "metadata": {},
     "outputs": [
      {
       "output_type": "stream",
       "stream": "stdout",
       "text": [
        "Baseline DRIVER_RUN_LOOP =  61.747  [sec].\n",
        "Wetdepvec DRIVER_RUN_LOOP =  60.751  [sec].\n",
        "Speedup by =  1.6130338316 %.\n"
       ]
      }
     ],
     "prompt_number": 31
    },
    {
     "cell_type": "code",
     "collapsed": false,
     "input": [
      "print 'Baseline2 DRIVER_RUN_LOOP = ', bMainTime2, ' [sec].'\n",
      "print 'Wetdepvec2 DRIVER_RUN_LOOP = ', vMainTime2, ' [sec].'\n",
      "print 'Speedup by = ',100*abs(vMainTime2-bMainTime2)/bMainTime2, '%.'"
     ],
     "language": "python",
     "metadata": {},
     "outputs": [
      {
       "output_type": "stream",
       "stream": "stdout",
       "text": [
        "Baseline2 DRIVER_RUN_LOOP =  61.689  [sec].\n",
        "Wetdepvec2 DRIVER_RUN_LOOP =  62.437  [sec].\n",
        "Speedup by =  1.2125338391 %.\n"
       ]
      }
     ],
     "prompt_number": 18
    },
    {
     "cell_type": "markdown",
     "metadata": {},
     "source": [
      "The change has allowed for an average of  **1.4%** overall speedup.   "
     ]
    },
    {
     "cell_type": "markdown",
     "metadata": {},
     "source": [
      "##WETDEPA_V2 Speetup"
     ]
    },
    {
     "cell_type": "code",
     "collapsed": false,
     "input": [
      "bWetdepTime=baseline.getDataEntry('WETDEPA_V2','wallmax')\n",
      "vWetdepTime=wetdepvec.getDataEntry('WETDEPA_V2','wallmax')\n",
      "bWetdepTime2=baseline2.getDataEntry('WETDEPA_V2','wallmax')\n",
      "vWetdepTime2=wetdepvec2.getDataEntry('WETDEPA_V2','wallmax')"
     ],
     "language": "python",
     "metadata": {},
     "outputs": [],
     "prompt_number": 19
    },
    {
     "cell_type": "code",
     "collapsed": false,
     "input": [
      "print 'Baseline  = ', bWetdepTime, ' [sec].'\n",
      "print 'Wetdepvec  = ', vWetdepTime, ' [sec].'\n",
      "print 'wetdepa_v2 relative Speedup by = ',100*abs(vWetdepTime-bWetdepTime)/bWetdepTime, '%.'"
     ],
     "language": "python",
     "metadata": {},
     "outputs": [
      {
       "output_type": "stream",
       "stream": "stdout",
       "text": [
        "Baseline  =  0.66  [sec].\n",
        "Wetdepvec  =  0.195  [sec].\n",
        "wetdepa_v2 relative Speedup by =  70.4545454545 %.\n"
       ]
      }
     ],
     "prompt_number": 34
    },
    {
     "cell_type": "code",
     "collapsed": false,
     "input": [
      "print 'Baseline  = ', bWetdepTime2, ' [sec].'\n",
      "print 'Wetdepvec  = ', vWetdepTime2, ' [sec].'\n",
      "print 'wetdepa_v2 relative Speedup by = ',100*abs(vWetdepTime2-bWetdepTime2)/bWetdepTime2, '%.'"
     ],
     "language": "python",
     "metadata": {},
     "outputs": [
      {
       "output_type": "stream",
       "stream": "stdout",
       "text": [
        "Baseline  =  0.625  [sec].\n",
        "Wetdepvec  =  0.195  [sec].\n",
        "wetdepa_v2 relative Speedup by =  68.8 %.\n"
       ]
      }
     ],
     "prompt_number": 20
    },
    {
     "cell_type": "markdown",
     "metadata": {},
     "source": [
      "We see an average of ** 69% ** speed up for the subroutine wetdepa_v2."
     ]
    },
    {
     "cell_type": "code",
     "collapsed": false,
     "input": [],
     "language": "python",
     "metadata": {},
     "outputs": []
    }
   ],
   "metadata": {}
  }
 ]
}