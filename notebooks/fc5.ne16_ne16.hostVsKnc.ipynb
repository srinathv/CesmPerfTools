{
 "metadata": {
  "name": "",
  "signature": "sha256:704eb5bdc65dc45ce39feb14fea48738bfc26e3d1f385c15eb7e176f050db674"
 },
 "nbformat": 3,
 "nbformat_minor": 0,
 "worksheets": [
  {
   "cells": [
    {
     "cell_type": "heading",
     "level": 1,
     "metadata": {},
     "source": [
      "CESM 1_3_beta07(.perl) FC5 ne16_ne16 performance runs on Stampede"
     ]
    },
    {
     "cell_type": "markdown",
     "metadata": {},
     "source": [
      "Git repo @  git@bitbucket.org:srinath22/cesm-performance-analysis-tools.git\n",
      "**add what is the repo for people to use***"
     ]
    },
    {
     "cell_type": "code",
     "collapsed": false,
     "input": [
      "import os,sys,gzip\n",
      "sys.path.append('../modules')\n",
      "import cesmperftiming as cpt\n",
      "import cesmperfplotting as cpp\n",
      "import numpy as np\n"
     ],
     "language": "python",
     "metadata": {},
     "outputs": []
    },
    {
     "cell_type": "markdown",
     "metadata": {},
     "source": [
      "Timing file results saved in git repo:\tssh://srinathv@stampede.tacc.utexas.edu//work/02463/srinathv/cesm1_3_beta07.perl/scripts\n",
      "\n",
      "###compilers:\n",
      "compiler: intel/13.1.1.163\n",
      "\n",
      "IMPI version: impi/4.1.1.036\n",
      "\n",
      "2 nodes for each device\n",
      "\n",
      "###config:\n",
      "\n",
      "all components on all mpi tasks with all threads\n",
      "\n",
      "**KNC**: #ranks x # threads =192 [1mpi x 192 threads per KNC, 4 mpi x 48 threads per KNC]\n",
      "\n",
      "**Sandybridge (dual)**: 16 mpi ranks x 2 threads per node"
     ]
    },
    {
     "cell_type": "markdown",
     "metadata": {},
     "source": [
      "#####*KNC NOTE*: \n",
      "KNC needed 2 nodes to run this resolution (2 degree atm) and also needed shr_ncread_mod.F90 with all optimization turned off. The rest of the KNC code base used -O3 optimization with an additional -mP2OPT_hpo_matrix_opt_framework=0 flag compared to the host builds."
     ]
    },
    {
     "cell_type": "markdown",
     "metadata": {},
     "source": [
      "####run augmentations:\n",
      "    ./xmlchange -file env_run.xml -id COMP_RUN_BARRIERS -val TRUE\n",
      "    ./xmlchange -file env_run.xml -id REST_OPTION -val never"
     ]
    },
    {
     "cell_type": "code",
     "collapsed": false,
     "input": [
      "pathToStampedePerfData='/Users/srinathv/Repos/stampede-c13b07.perl-scripts/'"
     ],
     "language": "python",
     "metadata": {},
     "outputs": []
    },
    {
     "cell_type": "code",
     "collapsed": false,
     "input": [
      "hostFile='fc5.host.2nodes.16mpi.2omp.noIOwbars/timing/ccsm_timing_stats.140506-151649.gz'\n",
      "knc1mpiFile='fc5.mic.2nodes.1mpi.192omp.intelFlag.O3.depends.fullThreading/timing/ccsm_timing_stats.140506-150456.gz'\n",
      "knc4mpiFile='fc5.mic.2nodes.4mpi.48omp.intelFlag.O3.depends/timing/ccsm_timing_stats.140506-150323.gz'"
     ],
     "language": "python",
     "metadata": {},
     "outputs": []
    },
    {
     "cell_type": "markdown",
     "metadata": {},
     "source": [
      "Create timing data objects."
     ]
    },
    {
     "cell_type": "code",
     "collapsed": false,
     "input": [
      "host = cpt.cesmTimeParser()\n",
      "knc1mpi = cpt.cesmTimeParser()\n",
      "knc4mpi = cpt.cesmTimeParser()\n",
      "host.parseFile(pathToStampedePerfData+hostFile)\n",
      "knc1mpi.parseFile(pathToStampedePerfData+knc1mpiFile)\n",
      "knc4mpi.parseFile(pathToStampedePerfData+knc4mpiFile)"
     ],
     "language": "python",
     "metadata": {},
     "outputs": []
    },
    {
     "cell_type": "code",
     "collapsed": false,
     "input": [
      " print \" Run time for 1 MPI x 192 threads per KNC =\" ,knc1mpi.getDataEntry(\"DRIVER_RUN_LOOP\",\"wallmax\")\n",
      " print \" Run time for 4 MPI x 48 threads per KNC =\" ,knc4mpi.getDataEntry(\"DRIVER_RUN_LOOP\",\"wallmax\")   "
     ],
     "language": "python",
     "metadata": {},
     "outputs": []
    },
    {
     "cell_type": "raw",
     "metadata": {},
     "source": [
      "We will use the 4x48 KNC case to compare with a host runt."
     ]
    },
    {
     "cell_type": "code",
     "collapsed": false,
     "input": [
      "print \" KNC run time is \", host.getDataEntry(\"DRIVER_RUN_LOOP\",\"wallmax\")/ \\\n",
      "        knc4mpi.getDataEntry(\"DRIVER_RUN_LOOP\",\"wallmax\") * 100, \\\n",
      "        \"% of Host run runtime.\" \n",
      "                    "
     ],
     "language": "python",
     "metadata": {},
     "outputs": []
    },
    {
     "cell_type": "code",
     "collapsed": false,
     "input": [
      "subNames=knc4mpi.getRoutineNames()\n",
      "listOfRatios=[]\n",
      "for i in range(len(subNames)):\n",
      "    subname=subNames[i]\n",
      "    if (host.getDataEntry(subname,\"wallmax\") != 0.):\n",
      "      try:\n",
      "        ratio=knc4mpi.getDataEntry(subname,\"wallmax\")/host.getDataEntry(subname,\"wallmax\")\n",
      "        percent=knc4mpi.getDataEntry(subname,\"wallmax\")/knc4mpi.getDataEntry(\"DRIVER_RUN_LOOP\",\"wallmax\")\n",
      "      except:\n",
      "        print subname, ' has an issue while calculating ratios'    \n",
      "      if (ratio > 1. and ratio < float('inf') and subname.islower() ):\n",
      "        listOfRatios.append((subname,ratio,knc4mpi.getDataEntry(subname,\"wallmax\"),percent))\n",
      "        \n",
      "sortOnKncTime=sorted(listOfRatios, key=lambda ratio: ratio[2],reverse=True)\n",
      "sortOnRatios=sorted(listOfRatios, key=lambda ratio: ratio[1],reverse=True)"
     ],
     "language": "python",
     "metadata": {},
     "outputs": []
    },
    {
     "cell_type": "markdown",
     "metadata": {},
     "source": [
      "Just looking at a ranking of ratios can be misleading."
     ]
    },
    {
     "cell_type": "code",
     "collapsed": false,
     "input": [
      "print \"Here are the 5 largest ratios (subroutine name, knc/host ratio, knc time) [sec]:\", \n",
      "sortOnRatios[0:5]"
     ],
     "language": "python",
     "metadata": {},
     "outputs": []
    },
    {
     "cell_type": "markdown",
     "metadata": {},
     "source": [
      "Though the \"cice_run_initflux\" takes 190 times longer to run on the KNC, its overal time is quite small compared to other subroutines. CESM is not fully intstrumented with GPTL calls. Instead we have outer subroutines calls and their inclusive times."
     ]
    },
    {
     "cell_type": "markdown",
     "metadata": {},
     "source": [
      "Let's plot a few of the subroutines times that take the longest on the KNC and their ratios."
     ]
    },
    {
     "cell_type": "code",
     "collapsed": false,
     "input": [
      "ratioList=sortOnKncTime[0:10]\n",
      "names=[x[i] for x in ratioList for i in [0]]\n",
      "ratios=[x[i] for x in ratioList for i in [1]]\n",
      "times=[x[i] for x in ratioList for i in [2]]\n",
      "percents=[100*x[i] for x in ratioList for i in [3]]\n"
     ],
     "language": "python",
     "metadata": {},
     "outputs": []
    },
    {
     "cell_type": "code",
     "collapsed": false,
     "input": [
      "pos = np.arange(int(np.size(names)))    # the bar centers on the x axis\n",
      "width = 0.35\n",
      "newpos=pos+width\n",
      "plt.rc(('xtick','ytick','axes'), labelsize=16.0)\n",
      "\n",
      "fig=plt.figure(figsize=(12,14))\n",
      "ax1=fig.add_subplot(111)\n",
      "#ax2=fig.add_subplot(212)\n",
      "\n",
      "ratioBars=ax1.bar(newpos, ratios, width, color='b')\n",
      "ax1.set_ylabel('KNC subtime/Host subtime')\n",
      "ax1.set_xticks(newpos)\n",
      "ax1.set_xticklabels( names, rotation=70,fontsize=10)\n",
      "#\n",
      "ax1.set_title('Stampede FC5, ne16_ne16 \\n' +\n",
      "          '(compiler: intel/13.1.1.163 , impi: impi/4.1.1.036 ) \\n' +\n",
      "          '2 nodes, for each node: \\n'+\n",
      "          'Host: 2 omp threads for each of 16 MPI ranks \\n' +\n",
      "          'KNC: 48 omp threads for each 4 MPI ranks ',fontsize=12.)\n",
      "\n",
      "for t in ax1.get_yticklabels():\n",
      "    t.set_color('b')\n",
      "strPercents=['%.1f'%x + '%' for x in percents]\n",
      "    \n",
      "cpp.autolabelRel(ratioBars,strPercents)\n",
      "\n",
      "ax2=ax1.twinx()\n",
      "timeLine=ax2.plot(newpos+.5*width,times,color='g',marker='o',label='sub-times')\n",
      "ax2.set_ylabel('wallmax time[sec]')\n",
      "for t in ax2.get_yticklabels():\n",
      "    t.set_color('g')"
     ],
     "language": "python",
     "metadata": {},
     "outputs": []
    },
    {
     "cell_type": "markdown",
     "metadata": {},
     "source": [
      "Percent of run labeled above each bar."
     ]
    },
    {
     "cell_type": "markdown",
     "metadata": {},
     "source": [
      "Now that we have the 10 most expensive outer subroutines compared to Host exeuction, we can \n",
      "1. Pick one of these and hand instrument with GPTL all the inner subroutines\n",
      "2. Use a tool to instrument [both on KNC and SNB] all 10 of these regions\n",
      "  1. gets us less instrumented meaning less overhead\n",
      "  2. some choices\n",
      "    1. scorep\n",
      "    2. opt within TAU\n",
      "    3. extrae\n",
      "\n",
      "    "
     ]
    },
    {
     "cell_type": "markdown",
     "metadata": {},
     "source": [
      "Concurrently, the KNC is running better than 4 times slower than the Host for the FC5 (CAM-SE) compset.  We should initiate an ensemble verification exercise"
     ]
    },
    {
     "cell_type": "markdown",
     "metadata": {},
     "source": [
      "#### Top 10 largest WallTime in the KNC stats file"
     ]
    },
    {
     "cell_type": "code",
     "collapsed": false,
     "input": [
      "listOfTimes=[]\n",
      "for i in range(len(subNames)):\n",
      "    subname=subNames[i]\n",
      "    if (host.getDataEntry(subname,\"wallmax\") != 0.):\n",
      "      try:\n",
      "        time=knc4mpi.getDataEntry(subname,\"wallmax\")\n",
      "      except:\n",
      "        print subname, ' has an issue while calculating ratios'    \n",
      "      listOfTimes.append((subname,time))\n",
      "        \n",
      "sortOnTime=sorted(listOfTimes, key=lambda time: time[1],reverse=True)\n",
      "sortOnTime[:11]"
     ],
     "language": "python",
     "metadata": {},
     "outputs": []
    },
    {
     "cell_type": "markdown",
     "metadata": {},
     "source": [
      "###Do components take similar relative time on each device?"
     ]
    },
    {
     "cell_type": "code",
     "collapsed": false,
     "input": [
      "compNames=['ATM','LND','OCN','ROF','ICE','WAV','CPL']\n",
      "compRunNames=[]\n",
      "for x in subNames:\n",
      "    for y in compNames:\n",
      "        if y in x and 'RUN' in x and not 'BARRIER' in x and 'DRIVER' in x:\n",
      "            print x"
     ],
     "language": "python",
     "metadata": {},
     "outputs": []
    },
    {
     "cell_type": "code",
     "collapsed": false,
     "input": [],
     "language": "python",
     "metadata": {},
     "outputs": []
    }
   ],
   "metadata": {}
  }
 ]
}