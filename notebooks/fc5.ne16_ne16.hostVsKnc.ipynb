{
 "metadata": {
  "name": "",
  "signature": "sha256:d1fd33a2df3f387d4b2a31fe29049f4d0c748629de7cc29c7ccc9d72bc13c291"
 },
 "nbformat": 3,
 "nbformat_minor": 0,
 "worksheets": [
  {
   "cells": [
    {
     "cell_type": "heading",
     "level": 1,
     "metadata": {},
     "source": [
      "CESM 1_3_beta07(.perl) FC5 ne16_ne16 performance runs on Stampede"
     ]
    },
    {
     "cell_type": "markdown",
     "metadata": {},
     "source": [
      "Git repo @  git@bitbucket.org:srinath22/cesm-performance-analysis-tools.git\n",
      "**add what is the repo for people to use***"
     ]
    },
    {
     "cell_type": "code",
     "collapsed": false,
     "input": [
      "import os,sys,gzip\n",
      "sys.path.append('../modules')\n",
      "import cesmperftiming as cpt\n",
      "import cesmperfplotting as cpp\n",
      "import numpy as np\n"
     ],
     "language": "python",
     "metadata": {},
     "outputs": [],
     "prompt_number": 1
    },
    {
     "cell_type": "markdown",
     "metadata": {},
     "source": [
      "Timing file results saved in git repo:\tssh://srinathv@stampede.tacc.utexas.edu//work/02463/srinathv/cesm1_3_beta07.perl/scripts\n",
      "\n",
      "###compilers:\n",
      "compiler: intel/13.1.1.163\n",
      "\n",
      "IMPI version: impi/4.1.1.036\n",
      "\n",
      "2 nodes for each device\n",
      "\n",
      "###config:\n",
      "\n",
      "all components on all mpi tasks with all threads\n",
      "\n",
      "**KNC**: #ranks x # threads =192 [1mpi x 192 threads per KNC, 4 mpi x 48 threads per KNC]\n",
      "\n",
      "**Sandybridge (dual)**: 16 mpi ranks x 2 threads per node"
     ]
    },
    {
     "cell_type": "markdown",
     "metadata": {},
     "source": [
      "#####*KNC NOTE*: \n",
      "KNC needed 2 nodes to run this resolution (2 degree atm) and also needed shr_ncread_mod.F90 with all optimization turned off. The rest of the KNC code base used -O3 optimization with an additional -mP2OPT_hpo_matrix_opt_framework=0 flag compared to the host builds."
     ]
    },
    {
     "cell_type": "markdown",
     "metadata": {},
     "source": [
      "####run augmentations:\n",
      "    ./xmlchange -file env_run.xml -id COMP_RUN_BARRIERS -val TRUE\n",
      "    ./xmlchange -file env_run.xml -id REST_OPTION -val never"
     ]
    },
    {
     "cell_type": "code",
     "collapsed": false,
     "input": [
      "pathToStampedePerfData='/Users/srinathv/Repos/stampede-c13b07.perl-scripts/'"
     ],
     "language": "python",
     "metadata": {},
     "outputs": [],
     "prompt_number": 2
    },
    {
     "cell_type": "code",
     "collapsed": false,
     "input": [
      "hostFile='fc5.host.2nodes.16mpi.2omp.noIOwbars/timing/ccsm_timing_stats.140506-151649.gz'\n",
      "knc1mpiFile='fc5.mic.2nodes.1mpi.192omp.intelFlag.O3.depends.fullThreading/timing/ccsm_timing_stats.140506-150456.gz'\n",
      "knc4mpiFile='fc5.mic.2nodes.4mpi.48omp.intelFlag.O3.depends/timing/ccsm_timing_stats.140506-150323.gz'"
     ],
     "language": "python",
     "metadata": {},
     "outputs": [],
     "prompt_number": 3
    },
    {
     "cell_type": "markdown",
     "metadata": {},
     "source": [
      "Create timing data objects."
     ]
    },
    {
     "cell_type": "code",
     "collapsed": false,
     "input": [
      "host = cpt.cesmTimeParser()\n",
      "knc1mpi = cpt.cesmTimeParser()\n",
      "knc4mpi = cpt.cesmTimeParser()\n",
      "host.parseFile(pathToStampedePerfData+hostFile)\n",
      "knc1mpi.parseFile(pathToStampedePerfData+knc1mpiFile)\n",
      "knc4mpi.parseFile(pathToStampedePerfData+knc4mpiFile)"
     ],
     "language": "python",
     "metadata": {},
     "outputs": [
      {
       "ename": "IOError",
       "evalue": "[Errno 2] No such file or directory: '/Users/srinathv/Repos/stampede-c13b07.perl-scripts/fc5.host.2nodes.16mpi.2omp.noIOwbars/timing/ccsm_timing_stats.140506-151649.gz'",
       "output_type": "pyerr",
       "traceback": [
        "\u001b[0;31m---------------------------------------------------------------------------\u001b[0m\n\u001b[0;31mIOError\u001b[0m                                   Traceback (most recent call last)",
        "\u001b[0;32m<ipython-input-4-aba4778bb369>\u001b[0m in \u001b[0;36m<module>\u001b[0;34m()\u001b[0m\n\u001b[1;32m      2\u001b[0m \u001b[0mknc1mpi\u001b[0m \u001b[0;34m=\u001b[0m \u001b[0mcpt\u001b[0m\u001b[0;34m.\u001b[0m\u001b[0mcesmTimeParser\u001b[0m\u001b[0;34m(\u001b[0m\u001b[0;34m)\u001b[0m\u001b[0;34m\u001b[0m\u001b[0m\n\u001b[1;32m      3\u001b[0m \u001b[0mknc4mpi\u001b[0m \u001b[0;34m=\u001b[0m \u001b[0mcpt\u001b[0m\u001b[0;34m.\u001b[0m\u001b[0mcesmTimeParser\u001b[0m\u001b[0;34m(\u001b[0m\u001b[0;34m)\u001b[0m\u001b[0;34m\u001b[0m\u001b[0m\n\u001b[0;32m----> 4\u001b[0;31m \u001b[0mhost\u001b[0m\u001b[0;34m.\u001b[0m\u001b[0mparseFile\u001b[0m\u001b[0;34m(\u001b[0m\u001b[0mpathToStampedePerfData\u001b[0m\u001b[0;34m+\u001b[0m\u001b[0mhostFile\u001b[0m\u001b[0;34m)\u001b[0m\u001b[0;34m\u001b[0m\u001b[0m\n\u001b[0m\u001b[1;32m      5\u001b[0m \u001b[0mknc1mpi\u001b[0m\u001b[0;34m.\u001b[0m\u001b[0mparseFile\u001b[0m\u001b[0;34m(\u001b[0m\u001b[0mpathToStampedePerfData\u001b[0m\u001b[0;34m+\u001b[0m\u001b[0mknc1mpiFile\u001b[0m\u001b[0;34m)\u001b[0m\u001b[0;34m\u001b[0m\u001b[0m\n\u001b[1;32m      6\u001b[0m \u001b[0mknc4mpi\u001b[0m\u001b[0;34m.\u001b[0m\u001b[0mparseFile\u001b[0m\u001b[0;34m(\u001b[0m\u001b[0mpathToStampedePerfData\u001b[0m\u001b[0;34m+\u001b[0m\u001b[0mknc4mpiFile\u001b[0m\u001b[0;34m)\u001b[0m\u001b[0;34m\u001b[0m\u001b[0m\n",
        "\u001b[0;32m/Users/srinathv/Work/Repos/cesm-performance-analysis-tools/modules/cesmperftiming.pyc\u001b[0m in \u001b[0;36mparseFile\u001b[0;34m(self, filename)\u001b[0m\n\u001b[1;32m    113\u001b[0m     \u001b[0mself\u001b[0m\u001b[0;34m.\u001b[0m\u001b[0mfilename\u001b[0m \u001b[0;34m=\u001b[0m \u001b[0mfilename\u001b[0m\u001b[0;34m\u001b[0m\u001b[0m\n\u001b[1;32m    114\u001b[0m     \u001b[0mself\u001b[0m\u001b[0;34m.\u001b[0m\u001b[0mfileSet\u001b[0m \u001b[0;34m=\u001b[0m \u001b[0mTrue\u001b[0m\u001b[0;34m\u001b[0m\u001b[0m\n\u001b[0;32m--> 115\u001b[0;31m     \u001b[0mself\u001b[0m\u001b[0;34m.\u001b[0m\u001b[0mparse\u001b[0m\u001b[0;34m(\u001b[0m\u001b[0;34m)\u001b[0m\u001b[0;34m\u001b[0m\u001b[0m\n\u001b[0m\u001b[1;32m    116\u001b[0m \u001b[0;34m\u001b[0m\u001b[0m\n\u001b[1;32m    117\u001b[0m   \u001b[0;32mdef\u001b[0m \u001b[0mprintRunInfo\u001b[0m\u001b[0;34m(\u001b[0m\u001b[0mself\u001b[0m\u001b[0;34m,\u001b[0m\u001b[0;34m)\u001b[0m\u001b[0;34m:\u001b[0m\u001b[0;34m\u001b[0m\u001b[0m\n",
        "\u001b[0;32m/Users/srinathv/Work/Repos/cesm-performance-analysis-tools/modules/cesmperftiming.pyc\u001b[0m in \u001b[0;36mparse\u001b[0;34m(self)\u001b[0m\n\u001b[1;32m    127\u001b[0m     \u001b[0;32mif\u001b[0m \u001b[0;34m(\u001b[0m\u001b[0mextension\u001b[0m \u001b[0;34m==\u001b[0m \u001b[0;34m'.gz'\u001b[0m\u001b[0;34m)\u001b[0m \u001b[0;34m:\u001b[0m\u001b[0;34m\u001b[0m\u001b[0m\n\u001b[1;32m    128\u001b[0m       \u001b[0;31m#lines=gzip.open(self.filename,'r')\u001b[0m\u001b[0;34m\u001b[0m\u001b[0;34m\u001b[0m\u001b[0m\n\u001b[0;32m--> 129\u001b[0;31m       \u001b[0mself\u001b[0m\u001b[0;34m.\u001b[0m\u001b[0mfid\u001b[0m \u001b[0;34m=\u001b[0m \u001b[0mgzip\u001b[0m\u001b[0;34m.\u001b[0m\u001b[0mopen\u001b[0m\u001b[0;34m(\u001b[0m\u001b[0mself\u001b[0m\u001b[0;34m.\u001b[0m\u001b[0mfilename\u001b[0m\u001b[0;34m,\u001b[0m\u001b[0;34m'r'\u001b[0m\u001b[0;34m)\u001b[0m\u001b[0;34m\u001b[0m\u001b[0m\n\u001b[0m\u001b[1;32m    130\u001b[0m     \u001b[0;32melse\u001b[0m\u001b[0;34m:\u001b[0m\u001b[0;34m\u001b[0m\u001b[0m\n\u001b[1;32m    131\u001b[0m       \u001b[0mself\u001b[0m\u001b[0;34m.\u001b[0m\u001b[0mfid\u001b[0m \u001b[0;34m=\u001b[0m \u001b[0mopen\u001b[0m\u001b[0;34m(\u001b[0m\u001b[0mself\u001b[0m\u001b[0;34m.\u001b[0m\u001b[0mfilename\u001b[0m\u001b[0;34m,\u001b[0m\u001b[0;34m'r'\u001b[0m\u001b[0;34m)\u001b[0m\u001b[0;34m\u001b[0m\u001b[0m\n",
        "\u001b[0;32m/usr/local/Cellar/python/2.7.6_1/Frameworks/Python.framework/Versions/2.7/lib/python2.7/gzip.pyc\u001b[0m in \u001b[0;36mopen\u001b[0;34m(filename, mode, compresslevel)\u001b[0m\n\u001b[1;32m     32\u001b[0m \u001b[0;34m\u001b[0m\u001b[0m\n\u001b[1;32m     33\u001b[0m     \"\"\"\n\u001b[0;32m---> 34\u001b[0;31m     \u001b[0;32mreturn\u001b[0m \u001b[0mGzipFile\u001b[0m\u001b[0;34m(\u001b[0m\u001b[0mfilename\u001b[0m\u001b[0;34m,\u001b[0m \u001b[0mmode\u001b[0m\u001b[0;34m,\u001b[0m \u001b[0mcompresslevel\u001b[0m\u001b[0;34m)\u001b[0m\u001b[0;34m\u001b[0m\u001b[0m\n\u001b[0m\u001b[1;32m     35\u001b[0m \u001b[0;34m\u001b[0m\u001b[0m\n\u001b[1;32m     36\u001b[0m \u001b[0;32mclass\u001b[0m \u001b[0mGzipFile\u001b[0m\u001b[0;34m(\u001b[0m\u001b[0mio\u001b[0m\u001b[0;34m.\u001b[0m\u001b[0mBufferedIOBase\u001b[0m\u001b[0;34m)\u001b[0m\u001b[0;34m:\u001b[0m\u001b[0;34m\u001b[0m\u001b[0m\n",
        "\u001b[0;32m/usr/local/Cellar/python/2.7.6_1/Frameworks/Python.framework/Versions/2.7/lib/python2.7/gzip.pyc\u001b[0m in \u001b[0;36m__init__\u001b[0;34m(self, filename, mode, compresslevel, fileobj, mtime)\u001b[0m\n\u001b[1;32m     92\u001b[0m             \u001b[0mmode\u001b[0m \u001b[0;34m+=\u001b[0m \u001b[0;34m'b'\u001b[0m\u001b[0;34m\u001b[0m\u001b[0m\n\u001b[1;32m     93\u001b[0m         \u001b[0;32mif\u001b[0m \u001b[0mfileobj\u001b[0m \u001b[0;32mis\u001b[0m \u001b[0mNone\u001b[0m\u001b[0;34m:\u001b[0m\u001b[0;34m\u001b[0m\u001b[0m\n\u001b[0;32m---> 94\u001b[0;31m             \u001b[0mfileobj\u001b[0m \u001b[0;34m=\u001b[0m \u001b[0mself\u001b[0m\u001b[0;34m.\u001b[0m\u001b[0mmyfileobj\u001b[0m \u001b[0;34m=\u001b[0m \u001b[0m__builtin__\u001b[0m\u001b[0;34m.\u001b[0m\u001b[0mopen\u001b[0m\u001b[0;34m(\u001b[0m\u001b[0mfilename\u001b[0m\u001b[0;34m,\u001b[0m \u001b[0mmode\u001b[0m \u001b[0;32mor\u001b[0m \u001b[0;34m'rb'\u001b[0m\u001b[0;34m)\u001b[0m\u001b[0;34m\u001b[0m\u001b[0m\n\u001b[0m\u001b[1;32m     95\u001b[0m         \u001b[0;32mif\u001b[0m \u001b[0mfilename\u001b[0m \u001b[0;32mis\u001b[0m \u001b[0mNone\u001b[0m\u001b[0;34m:\u001b[0m\u001b[0;34m\u001b[0m\u001b[0m\n\u001b[1;32m     96\u001b[0m             \u001b[0;31m# Issue #13781: os.fdopen() creates a fileobj with a bogus name\u001b[0m\u001b[0;34m\u001b[0m\u001b[0;34m\u001b[0m\u001b[0m\n",
        "\u001b[0;31mIOError\u001b[0m: [Errno 2] No such file or directory: '/Users/srinathv/Repos/stampede-c13b07.perl-scripts/fc5.host.2nodes.16mpi.2omp.noIOwbars/timing/ccsm_timing_stats.140506-151649.gz'"
       ]
      }
     ],
     "prompt_number": 4
    },
    {
     "cell_type": "code",
     "collapsed": false,
     "input": [
      " print \" Run time for 1 MPI x 192 threads per KNC =\" ,knc1mpi.getDataEntry(\"DRIVER_RUN_LOOP\",\"wallmax\")\n",
      " print \" Run time for 4 MPI x 48 threads per KNC =\" ,knc4mpi.getDataEntry(\"DRIVER_RUN_LOOP\",\"wallmax\")   "
     ],
     "language": "python",
     "metadata": {},
     "outputs": []
    },
    {
     "cell_type": "raw",
     "metadata": {},
     "source": [
      "We will use the 4x48 KNC case to compare with a host runt."
     ]
    },
    {
     "cell_type": "code",
     "collapsed": false,
     "input": [
      "print \" KNC run time is \", host.getDataEntry(\"DRIVER_RUN_LOOP\",\"wallmax\")/ \\\n",
      "        knc4mpi.getDataEntry(\"DRIVER_RUN_LOOP\",\"wallmax\") * 100, \\\n",
      "        \"% of Host run runtime.\" \n",
      "                    "
     ],
     "language": "python",
     "metadata": {},
     "outputs": []
    },
    {
     "cell_type": "code",
     "collapsed": false,
     "input": [
      "subNames=knc4mpi.getRoutineNames()\n",
      "listOfRatios=[]\n",
      "for i in range(len(subNames)):\n",
      "    subname=subNames[i]\n",
      "    if (host.getDataEntry(subname,\"wallmax\") != 0.):\n",
      "      try:\n",
      "        ratio=knc4mpi.getDataEntry(subname,\"wallmax\")/host.getDataEntry(subname,\"wallmax\")\n",
      "        percent=knc4mpi.getDataEntry(subname,\"wallmax\")/knc4mpi.getDataEntry(\"DRIVER_RUN_LOOP\",\"wallmax\")\n",
      "      except:\n",
      "        print subname, ' has an issue while calculating ratios'    \n",
      "      if (ratio > 1. and ratio < float('inf') and subname.islower() ):\n",
      "        listOfRatios.append((subname,ratio,knc4mpi.getDataEntry(subname,\"wallmax\"),percent))\n",
      "        \n",
      "sortOnKncTime=sorted(listOfRatios, key=lambda ratio: ratio[2],reverse=True)\n",
      "sortOnRatios=sorted(listOfRatios, key=lambda ratio: ratio[1],reverse=True)"
     ],
     "language": "python",
     "metadata": {},
     "outputs": []
    },
    {
     "cell_type": "markdown",
     "metadata": {},
     "source": [
      "Just looking at a ranking of ratios can be misleading."
     ]
    },
    {
     "cell_type": "code",
     "collapsed": false,
     "input": [
      "print \"Here are the 5 largest ratios (subroutine name, knc/host ratio, knc time) [sec]:\", \n",
      "sortOnRatios[0:5]"
     ],
     "language": "python",
     "metadata": {},
     "outputs": []
    },
    {
     "cell_type": "markdown",
     "metadata": {},
     "source": [
      "Though the \"cice_run_initflux\" takes 190 times longer to run on the KNC, its overal time is quite small compared to other subroutines. CESM is not fully intstrumented with GPTL calls. Instead we have outer subroutines calls and their inclusive times."
     ]
    },
    {
     "cell_type": "markdown",
     "metadata": {},
     "source": [
      "Let's plot a few of the subroutines times that take the longest on the KNC and their ratios."
     ]
    },
    {
     "cell_type": "code",
     "collapsed": false,
     "input": [
      "ratioList=sortOnKncTime[0:10]\n",
      "names=[x[i] for x in ratioList for i in [0]]\n",
      "ratios=[x[i] for x in ratioList for i in [1]]\n",
      "times=[x[i] for x in ratioList for i in [2]]\n",
      "percents=[100*x[i] for x in ratioList for i in [3]]\n"
     ],
     "language": "python",
     "metadata": {},
     "outputs": []
    },
    {
     "cell_type": "code",
     "collapsed": false,
     "input": [
      "pos = np.arange(int(np.size(names)))    # the bar centers on the x axis\n",
      "width = 0.35\n",
      "newpos=pos+width\n",
      "plt.rc(('xtick','ytick','axes'), labelsize=16.0)\n",
      "\n",
      "fig=plt.figure(figsize=(12,14))\n",
      "ax1=fig.add_subplot(111)\n",
      "#ax2=fig.add_subplot(212)\n",
      "\n",
      "ratioBars=ax1.bar(newpos, ratios, width, color='b')\n",
      "ax1.set_ylabel('KNC subtime/Host subtime')\n",
      "ax1.set_xticks(newpos)\n",
      "ax1.set_xticklabels( names, rotation=70,fontsize=10)\n",
      "#\n",
      "ax1.set_title('Stampede FC5, ne16_ne16 \\n' +\n",
      "          '(compiler: intel/13.1.1.163 , impi: impi/4.1.1.036 ) \\n' +\n",
      "          '2 nodes, for each node: \\n'+\n",
      "          'Host: 2 omp threads for each of 16 MPI ranks \\n' +\n",
      "          'KNC: 48 omp threads for each 4 MPI ranks ',fontsize=12.)\n",
      "\n",
      "for t in ax1.get_yticklabels():\n",
      "    t.set_color('b')\n",
      "strPercents=['%.1f'%x + '%' for x in percents]\n",
      "    \n",
      "cpp.autolabelRel(ratioBars,strPercents)\n",
      "\n",
      "ax2=ax1.twinx()\n",
      "timeLine=ax2.plot(newpos+.5*width,times,color='g',marker='o',label='sub-times')\n",
      "ax2.set_ylabel('wallmax time[sec]')\n",
      "for t in ax2.get_yticklabels():\n",
      "    t.set_color('g')"
     ],
     "language": "python",
     "metadata": {},
     "outputs": []
    },
    {
     "cell_type": "markdown",
     "metadata": {},
     "source": [
      "Percent of run labeled above each bar."
     ]
    },
    {
     "cell_type": "markdown",
     "metadata": {},
     "source": [
      "Now that we have the 10 most expensive outer subroutines compared to Host exeuction, we can \n",
      "1. Pick one of these and hand instrument with GPTL all the inner subroutines\n",
      "2. Use a tool to instrument [both on KNC and SNB] all 10 of these regions\n",
      "  1. gets us less instrumented meaning less overhead\n",
      "  2. some choices\n",
      "    1. scorep\n",
      "    2. opt within TAU\n",
      "    3. extrae\n",
      "\n",
      "    "
     ]
    },
    {
     "cell_type": "markdown",
     "metadata": {},
     "source": [
      "Concurrently, the KNC is running better than 4 times slower than the Host for the FC5 (CAM-SE) compset.  We should initiate an ensemble verification exercise"
     ]
    },
    {
     "cell_type": "markdown",
     "metadata": {},
     "source": [
      "#### Top 10 largest WallTime in the stats file"
     ]
    },
    {
     "cell_type": "code",
     "collapsed": false,
     "input": [
      "listOfTimes=[]\n",
      "for i in range(len(subNames)):\n",
      "    subname=subNames[i]\n",
      "    if (host.getDataEntry(subname,\"wallmax\") != 0.):\n",
      "      try:\n",
      "        time=knc4mpi.getDataEntry(subname,\"wallmax\")\n",
      "      except:\n",
      "        print subname, ' has an issue while calculating ratios'    \n",
      "      listOfTimes.append((subname,time))\n",
      "        \n",
      "sortOnTime=sorted(listOfTimes, key=lambda time: time[1],reverse=True)\n",
      "sortOnTime[:11]"
     ],
     "language": "python",
     "metadata": {},
     "outputs": []
    },
    {
     "cell_type": "code",
     "collapsed": false,
     "input": [],
     "language": "python",
     "metadata": {},
     "outputs": []
    }
   ],
   "metadata": {}
  }
 ]
}