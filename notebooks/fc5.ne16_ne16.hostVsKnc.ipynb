{
 "metadata": {
  "name": "",
  "signature": "sha256:42ab38fe296da1c7eb0e2d772cf76efb56b5d4e3b3bad3a35a6819a796593ccb"
 },
 "nbformat": 3,
 "nbformat_minor": 0,
 "worksheets": [
  {
   "cells": [
    {
     "cell_type": "heading",
     "level": 1,
     "metadata": {},
     "source": [
      "CESM 1_3_beta07(.perl) FC5 ne16_ne16 performance runs on Stampede"
     ]
    },
    {
     "cell_type": "markdown",
     "metadata": {},
     "source": [
      "Git repo @  git@bitbucket.org:srinath22/cesm-performance-analysis-tools.git\n",
      "**add what is the repo for people to use***"
     ]
    },
    {
     "cell_type": "code",
     "collapsed": false,
     "input": [
      "import os,sys,gzip\n",
      "sys.path.append('../modules')\n",
      "import cesmperftiming as cpt\n",
      "import cesmperfplotting as cpp\n",
      "import numpy as np\n"
     ],
     "language": "python",
     "metadata": {},
     "outputs": [],
     "prompt_number": 14
    },
    {
     "cell_type": "markdown",
     "metadata": {},
     "source": [
      "Timing file results saved in git repo:\tssh://srinathv@stampede.tacc.utexas.edu//work/02463/srinathv/cesm1_3_beta07.perl/scripts\n",
      "\n",
      "###compilers:\n",
      "compiler: intel/13.1.1.163\n",
      "\n",
      "IMPI version: impi/4.1.1.036\n",
      "\n",
      "2 nodes for each device\n",
      "\n",
      "###config:\n",
      "\n",
      "all components on all mpi tasks with all threads\n",
      "\n",
      "**KNC**: #ranks x # threads =192 [1mpi x 192 threads per KNC, 4 mpi x 48 threads per KNC]\n",
      "\n",
      "**Sandybridge (dual)**: 16 mpi ranks x 2 threads per node"
     ]
    },
    {
     "cell_type": "markdown",
     "metadata": {},
     "source": [
      "#####*KNC NOTE*: \n",
      "KNC needed 2 nodes to run this resolution (2 degree atm) and also needed shr_ncread_mod.F90 with all optimization turned off. The rest of the KNC code base used -O3 optimization with an additional -mP2OPT_hpo_matrix_opt_framework=0 flag compared to the host builds."
     ]
    },
    {
     "cell_type": "markdown",
     "metadata": {},
     "source": [
      "####run augmentations:\n",
      "    ./xmlchange -file env_run.xml -id COMP_RUN_BARRIERS -val TRUE\n",
      "    ./xmlchange -file env_run.xml -id REST_OPTION -val never"
     ]
    },
    {
     "cell_type": "code",
     "collapsed": false,
     "input": [
      "pathToStampedePerfData='/Users/srinathv/Repos/stampede-c13b07.perl-scripts/'"
     ],
     "language": "python",
     "metadata": {},
     "outputs": [],
     "prompt_number": 15
    },
    {
     "cell_type": "code",
     "collapsed": false,
     "input": [
      "hostFile='fc5.host.2nodes.16mpi.2omp.noIOwbars/timing/ccsm_timing_stats.140506-151649.gz'\n",
      "knc1mpiFile='fc5.mic.2nodes.1mpi.192omp.intelFlag.O3.depends.fullThreading/timing/ccsm_timing_stats.140506-150456.gz'\n",
      "knc4mpiFile='fc5.mic.2nodes.4mpi.48omp.intelFlag.O3.depends/timing/ccsm_timing_stats.140506-150323.gz'"
     ],
     "language": "python",
     "metadata": {},
     "outputs": [],
     "prompt_number": 16
    },
    {
     "cell_type": "markdown",
     "metadata": {},
     "source": [
      "Create timing data objects."
     ]
    },
    {
     "cell_type": "code",
     "collapsed": false,
     "input": [
      "host = cpt.cesmTimeParser()\n",
      "knc1mpi = cpt.cesmTimeParser()\n",
      "knc4mpi = cpt.cesmTimeParser()\n",
      "host.parseFile(pathToStampedePerfData+hostFile)\n",
      "knc1mpi.parseFile(pathToStampedePerfData+knc1mpiFile)\n",
      "knc4mpi.parseFile(pathToStampedePerfData+knc4mpiFile)"
     ],
     "language": "python",
     "metadata": {},
     "outputs": [],
     "prompt_number": 17
    },
    {
     "cell_type": "code",
     "collapsed": false,
     "input": [
      " print \" Run time for 1 MPI x 192 threads per KNC =\" ,knc1mpi.getDataEntry(\"DRIVER_RUN_LOOP\",\"wallmax\")\n",
      " print \" Run time for 4 MPI x 48 threads per KNC =\" ,knc4mpi.getDataEntry(\"DRIVER_RUN_LOOP\",\"wallmax\")   "
     ],
     "language": "python",
     "metadata": {},
     "outputs": [
      {
       "output_type": "stream",
       "stream": "stdout",
       "text": [
        " Run time for 1 MPI x 192 threads per KNC = 2062.392\n",
        " Run time for 4 MPI x 48 threads per KNC = 1518.292\n"
       ]
      }
     ],
     "prompt_number": 18
    },
    {
     "cell_type": "raw",
     "metadata": {},
     "source": [
      "We will use the 4x48 KNC case to compare with a host runt."
     ]
    },
    {
     "cell_type": "code",
     "collapsed": false,
     "input": [
      "print \" KNC run time is \", host.getDataEntry(\"DRIVER_RUN_LOOP\",\"wallmax\")/ \\\n",
      "        knc4mpi.getDataEntry(\"DRIVER_RUN_LOOP\",\"wallmax\") * 100, \\\n",
      "        \"% of Host run runtime.\" \n",
      "                    "
     ],
     "language": "python",
     "metadata": {},
     "outputs": [
      {
       "output_type": "stream",
       "stream": "stdout",
       "text": [
        " KNC run time is  29.6368550977 % of Host run runtime.\n"
       ]
      }
     ],
     "prompt_number": 19
    },
    {
     "cell_type": "markdown",
     "metadata": {},
     "source": [
      "Even thought KNC runs near **30%** the speed of the Xeon at a non-optimal but equivalent compset processor decomposition, this is consider quite good for a full production level code."
     ]
    },
    {
     "cell_type": "code",
     "collapsed": false,
     "input": [
      "subNames=knc4mpi.getRoutineNames()\n",
      "listOfRatios=[]\n",
      "for i in range(len(subNames)):\n",
      "    subname=subNames[i]\n",
      "    if (host.getDataEntry(subname,\"wallmax\") != 0.):\n",
      "      try:\n",
      "        ratio=knc4mpi.getDataEntry(subname,\"wallmax\")/host.getDataEntry(subname,\"wallmax\")\n",
      "        percent=knc4mpi.getDataEntry(subname,\"wallmax\")/knc4mpi.getDataEntry(\"DRIVER_RUN_LOOP\",\"wallmax\")\n",
      "      except:\n",
      "        print subname, ' has an issue while calculating ratios'    \n",
      "      if (ratio > 1. and ratio < float('inf') and subname.islower() ):\n",
      "        listOfRatios.append((subname,ratio,knc4mpi.getDataEntry(subname,\"wallmax\"),percent))\n",
      "        \n",
      "sortOnKncTime=sorted(listOfRatios, key=lambda ratio: ratio[2],reverse=True)\n",
      "sortOnRatios=sorted(listOfRatios, key=lambda ratio: ratio[1],reverse=True)"
     ],
     "language": "python",
     "metadata": {},
     "outputs": [],
     "prompt_number": 20
    },
    {
     "cell_type": "markdown",
     "metadata": {},
     "source": [
      "Just looking at a ranking of ratios can be misleading."
     ]
    },
    {
     "cell_type": "code",
     "collapsed": false,
     "input": [
      "print \"Here are the 5 largest ratios (subroutine name, knc/host ratio, knc time) [sec]:\", \n",
      "sortOnRatios[0:5]"
     ],
     "language": "python",
     "metadata": {},
     "outputs": [
      {
       "output_type": "stream",
       "stream": "stdout",
       "text": [
        "Here are the 5 largest ratios (subroutine name, knc/host ratio, knc time) [sec]:"
       ]
      },
      {
       "metadata": {},
       "output_type": "pyout",
       "prompt_number": 21,
       "text": [
        "[('cice_run_initflux',\n",
        "  189.99999999999997,\n",
        "  0.56999999999999995,\n",
        "  0.00037542185561143703),\n",
        " ('driver_i2c_icei2icex',\n",
        "  66.69047619047619,\n",
        "  2.8010000000000002,\n",
        "  0.0018448361711712901),\n",
        " ('driver_atmprep_mrgx2a',\n",
        "  63.217391304347828,\n",
        "  2.9079999999999999,\n",
        "  0.001915310098452735),\n",
        " ('lc_rof_export', 61.25, 0.97999999999999998, 0.00064546213771790931),\n",
        " ('driver_l2c_lndl2lndx',\n",
        "  57.787500000000001,\n",
        "  4.6230000000000002,\n",
        "  0.0030448688394590765)]"
       ]
      },
      {
       "output_type": "stream",
       "stream": "stdout",
       "text": [
        "\n"
       ]
      }
     ],
     "prompt_number": 21
    },
    {
     "cell_type": "markdown",
     "metadata": {},
     "source": [
      "Though the \"cice_run_initflux\" takes 190 times longer to run on the KNC, its overal time is quite small compared to other subroutines. CESM is not fully intstrumented with GPTL calls. Instead we have outer subroutines calls and their inclusive times."
     ]
    },
    {
     "cell_type": "markdown",
     "metadata": {},
     "source": [
      "Let's plot a few of the subroutines times that take the longest on the KNC and their ratios."
     ]
    },
    {
     "cell_type": "code",
     "collapsed": false,
     "input": [
      "ratioList=sortOnKncTime[0:10]\n",
      "names=[x[i] for x in ratioList for i in [0]]\n",
      "ratios=[x[i] for x in ratioList for i in [1]]\n",
      "times=[x[i] for x in ratioList for i in [2]]\n",
      "percents=[100*x[i] for x in ratioList for i in [3]]\n"
     ],
     "language": "python",
     "metadata": {},
     "outputs": [],
     "prompt_number": 22
    },
    {
     "cell_type": "code",
     "collapsed": false,
     "input": [
      "pos = np.arange(int(np.size(names)))    # the bar centers on the x axis\n",
      "width = 0.35\n",
      "newpos=pos+width\n",
      "plt.rc(('xtick','ytick','axes'), labelsize=16.0)\n",
      "\n",
      "fig=plt.figure(figsize=(12,14))\n",
      "ax1=fig.add_subplot(111)\n",
      "#ax2=fig.add_subplot(212)\n",
      "\n",
      "ratioBars=ax1.bar(newpos, ratios, width, color='b')\n",
      "ax1.set_ylabel('KNC subtime/Host subtime')\n",
      "ax1.set_xticks(newpos)\n",
      "ax1.set_xticklabels( names, rotation=70,fontsize=10)\n",
      "#\n",
      "ax1.set_title('Stampede FC5, ne16_ne16 \\n' +\n",
      "          '(compiler: intel/13.1.1.163 , impi: impi/4.1.1.036 ) \\n' +\n",
      "          '2 nodes, for each node: \\n'+\n",
      "          'Host: 2 omp threads for each of 16 MPI ranks \\n' +\n",
      "          'KNC: 48 omp threads for each 4 MPI ranks \\n ' +\n",
      "          'Percentage of DRIVER_RUN_LOOP' ,fontsize=12.)\n",
      "\n",
      "for t in ax1.get_yticklabels():\n",
      "    t.set_color('b')\n",
      "strPercents=['%.1f'%x + '%' for x in percents]\n",
      "    \n",
      "cpp.autolabelRel(ratioBars,strPercents)\n",
      "\n",
      "#ax2=ax1.twinx()\n",
      "#timeLine=ax2.plot(newpos+.5*width,times,color='g',marker='o',label='sub-times')\n",
      "#ax2.set_ylabel('wallmax time[sec]')\n",
      "#for t in ax2.get_yticklabels():\n",
      "#    t.set_color('g')"
     ],
     "language": "python",
     "metadata": {},
     "outputs": [
      {
       "metadata": {},
       "output_type": "display_data",
       "png": "[encoded data removed]",
       "text": [
        "<matplotlib.figure.Figure at 0x10a825450>"
       ]
      }
     ],
     "prompt_number": 23
    },
    {
     "cell_type": "markdown",
     "metadata": {},
     "source": [
      "Percent of run labeled above each bar."
     ]
    },
    {
     "cell_type": "markdown",
     "metadata": {},
     "source": [
      "Now that we have the 10 most expensive outer subroutines compared to Host exeuction, we can \n",
      "1. Pick one of these and hand instrument with GPTL all the inner subroutines\n",
      "2. Use a tool to instrument [both on KNC and SNB] all 10 of these regions\n",
      "  1. gets us less instrumented meaning less overhead\n",
      "  2. some choices\n",
      "    1. scorep\n",
      "    2. mopt within TAU\n",
      "    3. extrae\n",
      "\n",
      "    "
     ]
    },
    {
     "cell_type": "markdown",
     "metadata": {},
     "source": [
      "Concurrently, the KNC is running almost 1/3 as fast as the Host for the FC5 (CAM-SE) compset.  We should initiate an ensemble verification exercise."
     ]
    },
    {
     "cell_type": "markdown",
     "metadata": {},
     "source": [
      "#### Top 10 largest WallTime in the KNC stats file"
     ]
    },
    {
     "cell_type": "code",
     "collapsed": false,
     "input": [
      "listOfTimes=[]\n",
      "for i in range(len(subNames)):\n",
      "    subname=subNames[i]\n",
      "    if (host.getDataEntry(subname,\"wallmax\") != 0.):\n",
      "      try:\n",
      "        time=knc4mpi.getDataEntry(subname,\"wallmax\")\n",
      "      except:\n",
      "        print subname, ' has an issue while calculating ratios'    \n",
      "      listOfTimes.append((subname,time))\n",
      "        \n",
      "sortOnTime=sorted(listOfTimes, key=lambda time: time[1],reverse=True)\n",
      "sortOnTime[:11]"
     ],
     "language": "python",
     "metadata": {},
     "outputs": [
      {
       "metadata": {},
       "output_type": "pyout",
       "prompt_number": 24,
       "text": [
        "[('DRIVER_RUN_LOOP', 1518.2919999999999),\n",
        " ('DRIVER_ATM_RUN', 1348.297),\n",
        " ('CAM_run1', 829.05899999999997),\n",
        " ('phys_run1', 826.68899999999996),\n",
        " ('bc_physics', 803.096),\n",
        " ('CAM_run3', 278.25999999999999),\n",
        " ('stepon_run3', 278.25599999999997),\n",
        " ('dyn_run', 278.25099999999998),\n",
        " ('CAM_run2', 244.88499999999999),\n",
        " ('DRIVER_A2C_BARRIER', 204.702),\n",
        " ('prim_advec_tracers_remap_rk2', 177.74000000000001)]"
       ]
      }
     ],
     "prompt_number": 24
    },
    {
     "cell_type": "markdown",
     "metadata": {},
     "source": [
      "###Do components take similar relative time on each device?"
     ]
    },
    {
     "cell_type": "code",
     "collapsed": false,
     "input": [
      "compNames=['ATM','LND','OCN','ROF','ICE','WAV','CPL']\n",
      "compRunNames=[]\n",
      "for x in subNames:\n",
      "    for y in compNames:\n",
      "        if y in x and 'RUN' in x and not 'BARRIER' in x and 'DRIVER' in x:\n",
      "            compRunNames.append(x)\n",
      "            \n",
      "kncCompRatios=[knc4mpi.getDataEntry(x,'wallmax')/knc4mpi.getDataEntry('DRIVER_RUN_LOOP','wallmax') for x in compRunNames]  \n",
      "hostCompRatios=[host.getDataEntry(x,'wallmax')/host.getDataEntry('DRIVER_RUN_LOOP','wallmax') for x in compRunNames] \n",
      "pos = np.arange(int(np.size(compRunNames)))    # the bar centers on the x axis\n",
      "width = 0.35\n",
      "newpos=pos+width\n",
      "plt.rc(('xtick','ytick','axes'), labelsize=16.0)\n",
      "\n",
      "fig=plt.figure(figsize=(12,14))\n",
      "ax1=fig.add_subplot(111)\n",
      "\n",
      "kncRatioBars=ax1.bar(pos, kncCompRatios, width, color='b')\n",
      "hostRatioBars=ax1.bar(newpos, hostCompRatios, width, color='g')\n",
      "ax1.set_ylabel('Component/Driver Run Loop wallmax')\n",
      "ax1.set_xticks(newpos)\n",
      "ax1.set_xticklabels( compRunNames, rotation=70,fontsize=10)\n",
      "#\n",
      "ax1.set_title('Stampede FC5, ne16_ne16 \\n' +\n",
      "          'ATM dominates on both devices \\n' +\n",
      "          'CPL is over 3 times slower on KNC',fontsize=12.)\n",
      "cpp.autolabelRel(kncRatioBars)\n",
      "cpp.autolabelRel(hostRatioBars)"
     ],
     "language": "python",
     "metadata": {},
     "outputs": [
      {
       "metadata": {},
       "output_type": "display_data",
       "png": "[encoded data removed]",
       "text": [
        "<matplotlib.figure.Figure at 0x10a81d1d0>"
       ]
      }
     ],
     "prompt_number": 25
    },
    {
     "cell_type": "markdown",
     "metadata": {},
     "source": [
      "##Correctness"
     ]
    },
    {
     "cell_type": "markdown",
     "metadata": {},
     "source": [
      "We ran an ensemble on Yelowstone (perturbing Temp) for an FC5 ne30_ne30 case.  We then ran one perturbation run of the same compset and resolution on the KNCs.\n",
      "\n",
      "The following are the comparison results.\n",
      "\n",
      "May 27, 2014 :\n",
      "\n",
      "-bash-4.1$ ./validation_test.sh -cam_out /glade/scratch/srinathv/fc5_ne30_ne30.mic.000/fc5_ne30_ne30.mic.000.cam.h0.0001-01-01-00000.nc -ensemble /glade/p/cesmdata/cseg/inputdata/validation/ensembles_with_global_means/cesm1_3_beta07/ne30_ne30.FC5.nc\n",
      "/glade/u/home/srinathv/validation_testing/run_CESM/test_run_against_ensemble.ncl\n",
      " \n",
      " Copyright (C) 1995-2014 - All Rights Reserved\n",
      " \n",
      " University Corporation for Atmospheric Research\n",
      " \n",
      " NCAR Command Language Version 6.2.0\n",
      " \n",
      " The use of this software is governed by a License Agreement.\n",
      " \n",
      " See http://www.ncl.ucar.edu/ for more details.\n",
      "\n",
      "(0)     Testing /glade/scratch/srinathv/fc5_ne30_ne30.mic.000/fc5_ne30_ne30.mic.000.cam.h0.0001-01-01-00000.nc\n",
      "\n",
      "(0)     (Testing against /glade/p/cesmdata/cseg/inputdata/validation/ensembles_with_global_means/cesm1_3_beta07/ne30_ne30.FC5.nc)\n",
      "\n",
      "(0)     Comparing data on CAM's native (hybrid) levels.\n",
      "\n",
      "(0)     7 ensemble variables either have no variance or are not included in test output.\n",
      "\n",
      "(0)     0 of 122 variables failed RMSZ test!\n",
      "\n",
      "(0)     6 of 122 variables failed global mean test:\n",
      "\n",
      "(0)     ---\n",
      "\n",
      "(0)      * FICE (0.230696 outside of [0.211642, 0.229968])\n",
      "\n",
      "(1)      * AODDUST3 (0.0296515 outside of [0.025108, 0.029539])\n",
      "\n",
      "(2)      * BURDEN3 (9.53008e-05 outside of [8.36362e-05, 9.5177e-05])\n",
      "\n",
      "(3)      * BURDENDUST (8.24457e-05 outside of [7.01761e-05, 8.21436e-05])\n",
      "\n",
      "(4)      * CLDHGH (0.371193 outside of [0.342339, 0.371072])\n",
      "\n",
      "(5)      * CLDTOT (0.625667 outside of [0.607319, 0.625573])\n",
      "\n",
      "\n",
      "The *six* variable failures are no more than **4% outside the interval **which may suggest some level of confidence for KNC simulations of this compset giving correct climate for longer simulations.  \n",
      "\n",
      "\n",
      "The Xeon ensememble took 1500 core hours per member.  The second and third KNC experiments are not being done because of the computational expense and allocation restrictions.  A full three member experiment comparison with the ensemble will be done once performance is increased to be much more compariable with the Xeon performance.  The succesful verification post performance gains will then make Stampede Xeon Phis a candidate for a production level port."
     ]
    },
    {
     "cell_type": "code",
     "collapsed": false,
     "input": [],
     "language": "python",
     "metadata": {},
     "outputs": [],
     "prompt_number": 25
    }
   ],
   "metadata": {}
  }
 ]
}